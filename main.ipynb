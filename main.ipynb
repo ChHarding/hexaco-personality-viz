{
 "cells": [
  {
   "cell_type": "markdown",
   "metadata": {},
   "source": [
    "### Main File - run the cells in this Jupyter notebook"
   ]
  },
  {
   "cell_type": "code",
   "execution_count": null,
   "metadata": {},
   "outputs": [],
   "source": [
    "# This is the file that is run by the \"end user\" \n",
    "# Imports other modules to make use of their functions/classes"
   ]
  },
  {
   "cell_type": "code",
   "execution_count": null,
   "metadata": {},
   "outputs": [],
   "source": [
    "# ESA Note: Resource for folder structures for packages and modules, but this can wait until version 2:\n",
    "# https://docs.python-guide.org/writing/structure/"
   ]
  },
  {
   "cell_type": "code",
   "execution_count": null,
   "metadata": {},
   "outputs": [],
   "source": [
    "# so how about you write a routine to randomly generate a HEXACO personality \n",
    "# store that in a csv file\n",
    "# You could then do more interesting summary statistics and plots with that."
   ]
  }
 ],
 "metadata": {
  "language_info": {
   "name": "python"
  }
 },
 "nbformat": 4,
 "nbformat_minor": 2
}
