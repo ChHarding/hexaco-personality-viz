{
 "cells": [
  {
   "cell_type": "markdown",
   "metadata": {},
   "source": [
    "### Main File - run the cells in this Jupyter notebook"
   ]
  },
  {
   "cell_type": "code",
   "execution_count": null,
   "metadata": {},
   "outputs": [],
   "source": [
    "# This is the file that is run by the \"end user\" \n",
    "# Imports other modules to make use of their functions/classes"
   ]
  },
  {
   "cell_type": "code",
   "execution_count": null,
   "metadata": {},
   "outputs": [],
   "source": [
    "# TODO: ESA: Resource for folder structures for packages and modules, but this can wait until version 2:\n",
    "# https://docs.python-guide.org/writing/structure/"
   ]
  },
  {
   "cell_type": "code",
   "execution_count": 1,
   "metadata": {},
   "outputs": [],
   "source": [
    "import random\n",
    "import csv\n",
    "\n",
    "# Define the HEXACO baseline data\n",
    "# TODO: ESA - import these from model.py instead of including here directly? \n",
    "stats = {\n",
    "    'h': {'name': 'Honesty', 'mean': 3.19, 'stdev': 0.62, 'color': 'orange'},\n",
    "    'e': {'name': 'Emotionality', 'mean': 3.43, 'stdev': 0.62, 'color': 'green'},\n",
    "    'x': {'name': 'Extraversion', 'mean': 3.50, 'stdev': 0.57, 'color': 'blue'},\n",
    "    'a': {'name': 'Agreeableness', 'mean': 2.94, 'stdev': 0.58, 'color': 'red'},\n",
    "    'c': {'name': 'Conscientiousness', 'mean': 3.44, 'stdev': 0.56, 'color': 'grey'},\n",
    "    'o': {'name': 'Openness', 'mean': 3.41, 'stdev': 0.60, 'color': 'violet'},\n",
    "}\n",
    "\n",
    "questions100 = {\n",
    "    1   : \"I would be quite bored by a visit to an art gallery.\",\n",
    "    2   : \"I clean my office or home quite frequently.\",\n",
    "    3   : \"I rarely hold a grudge, even against people who have badly wronged me.\",\n",
    "    4   : \"I feel reasonably satisfied with myself overall.\",\n",
    "    5   : \"I would feel afraid if I had to travel in bad weather conditions.\",\n",
    "    6   : \"If I want something from a person I dislike, I will act very nicely toward that person in order to get it.\",\n",
    "    7   : \"I'm interested in learning about the history and politics of other countries.\",\n",
    "    8   : \"When working, I often set ambitious goals for myself.\",\n",
    "    9   : \"People sometimes tell me that I am too critical of others.\",\n",
    "    10  : \"I rarely express my opinions in group meetings.\",\n",
    "    11  : \"I sometimes can't help worrying about little things.\",\n",
    "    12  : \"If I knew that I could never get caught, I would be willing to steal a million dollars.\",\n",
    "    13  : \"I would like a job that requires following a routine rather than being creative.\",\n",
    "    14  : \"I often check my work over repeatedly to find any mistakes.\",\n",
    "    15  : \"People sometimes tell me that I'm too stubborn.\",\n",
    "    16  : \"I avoid making \\\"small talk\\\" with people.\",\n",
    "    17  : \"When I suffer from a painful experience, I need someone to make me feel comfortable.\",\n",
    "    18  : \"Having a lot of money is not especially important to me.\",\n",
    "    19  : \"I think that paying attention to radical ideas is a waste of time.\",\n",
    "    20  : \"I make decisions based on the feeling of the moment rather than on careful thought.\",\n",
    "    21  : \"People think of me as someone who has a quick temper.\",\n",
    "    22  : \"I am energetic nearly all the time.\",\n",
    "    23  : \"I feel like crying when I see other people crying.\",\n",
    "    24  : \"I am an ordinary person who is no better than others.\",\n",
    "    25  : \"I wouldn't spend my time reading a book of poetry.\",\n",
    "    26  : \"I plan ahead and organize things, to avoid scrambling at the last minute.\",\n",
    "    27  : \"My attitude toward people who have treated me badly is \\\"forgive and forget\\\".\",\n",
    "    28  : \"I think that most people like some aspects of my personality.\",\n",
    "    29  : \"I don’t mind doing jobs that involve dangerous work.\",\n",
    "    30  : \"I wouldn't use flattery to get a raise or promotion at work, even if I thought it would succeed.\",\n",
    "    31  : \"I enjoy looking at maps of different places.\",\n",
    "    32  : \"I often push myself very hard when trying to achieve a goal.\",\n",
    "    33  : \"I generally accept people’s faults without complaining about them.\",\n",
    "    34  : \"In social situations, I'm usually the one who makes the first move.\",\n",
    "    35  : \"I worry a lot less than most people do.\",\n",
    "    36  : \"I would be tempted to buy stolen property if I were financially tight.\",\n",
    "    37  : \"I would enjoy creating a work of art, such as a novel, a song, or a painting.\",\n",
    "    38  : \"When working on something, I don't pay much attention to small details.\",\n",
    "    39  : \"I am usually quite flexible in my opinions when people disagree with me.\",\n",
    "    40  : \"I enjoy having lots of people around to talk with.\",\n",
    "    41  : \"I can handle difficult situations without needing emotional support from anyone else.\",\n",
    "    42  : \"I would like to live in a very expensive, high-class neighborhood.\",\n",
    "    43  : \"I like people who have unconventional views.\",\n",
    "    44  : \"I make a lot of mistakes because I don't think before I act.\",\n",
    "    45  : \"I rarely feel anger, even when people treat me quite badly.\",\n",
    "    46  : \"On most days, I feel cheerful and optimistic.\",\n",
    "    47  : \"When someone I know well is unhappy, I can almost feel that person's pain myself.\",\n",
    "    48  : \"I wouldn’t want people to treat me as though I were superior to them.\",\n",
    "    49  : \"If I had the opportunity, I would like to attend a classical music concert.\",\n",
    "    50  : \"People often joke with me about the messiness of my room or desk.\",\n",
    "    51  : \"If someone has cheated me once, I will always feel suspicious of that person.\",\n",
    "    52  : \"I feel that I am an unpopular person.\",\n",
    "    53  : \"When it comes to physical danger, I am very fearful.\",\n",
    "    54  : \"If I want something from someone, I will laugh at that person's worst jokes.\",\n",
    "    55  : \"I would be very bored by a book about the history of science and technology.\",\n",
    "    56  : \"Often when I set a goal, I end up quitting without having reached it.\",\n",
    "    57  : \"I tend to be lenient in judging other people.\",\n",
    "    58  : \"When I'm in a group of people, I'm often the one who speaks on behalf of the group.\",\n",
    "    59  : \"I rarely, if ever, have trouble sleeping due to stress or anxiety.\",\n",
    "    60  : \"I would never accept a bribe, even if it were very large.\",\n",
    "    61  : \"People have often told me that I have a good imagination.\",\n",
    "    62  : \"I always try to be accurate in my work, even at the expense of time.\",\n",
    "    63  : \"When people tell me that I’m wrong, my first reaction is to argue with them.\",\n",
    "    64  : \"I prefer jobs that involve active social interaction to those that involve working alone.\",\n",
    "    65  : \"Whenever I feel worried about something, I want to share my concern with another person.\",\n",
    "    66  : \"I would like to be seen driving around in a very expensive car.\",\n",
    "    67  : \"I think of myself as a somewhat eccentric person.\",\n",
    "    68  : \"I don’t allow my impulses to govern my behavior.\",\n",
    "    69  : \"Most people tend to get angry more quickly than I do.\",\n",
    "    70  : \"People often tell me that I should try to cheer up.\",\n",
    "    71  : \"I feel strong emotions when someone close to me is going away for a long time.\",\n",
    "    72  : \"I think that I am entitled to more respect than the average person is.\",\n",
    "    73  : \"Sometimes I like to just watch the wind as it blows through the trees.\",\n",
    "    74  : \"When working, I sometimes have difficulties due to being disorganized.\",\n",
    "    75  : \"I find it hard to fully forgive someone who has done something mean to me.\",\n",
    "    76  : \"I sometimes feel that I am a worthless person.\",\n",
    "    77  : \"Even in an emergency I wouldn't feel like panicking.\",\n",
    "    78  : \"I wouldn't pretend to like someone just to get that person to do favors for me.\",\n",
    "    79  : \"I’ve never really enjoyed looking through an encyclopedia.\",\n",
    "    80  : \"I do only the minimum amount of work needed to get by.\",\n",
    "    81  : \"Even when people make a lot of mistakes, I rarely say anything negative.\",\n",
    "    82  : \"I tend to feel quite self-conscious when speaking in front of a group of people.\",\n",
    "    83  : \"I get very anxious when waiting to hear about an important decision.\",\n",
    "    84  : \"I’d be tempted to use counterfeit money, if I were sure I could get away with it.\",\n",
    "    85  : \"I don't think of myself as the artistic or creative type.\",\n",
    "    86  : \"People often call me a perfectionist.\",\n",
    "    87  : \"I find it hard to compromise with people when I really think I’m right.\",\n",
    "    88  : \"The first thing that I always do in a new place is to make friends.\",\n",
    "    89  : \"I rarely discuss my problems with other people.\",\n",
    "    90  : \"I would get a lot of pleasure from owning expensive luxury goods.\",\n",
    "    91  : \"I find it boring to discuss philosophy.\",\n",
    "    92  : \"I prefer to do whatever comes to mind, rather than stick to a plan.\",\n",
    "    93  : \"I find it hard to keep my temper when people insult me.\",\n",
    "    94  : \"Most people are more upbeat and dynamic than I generally am.\",\n",
    "    95  : \"I remain unemotional even in situations where most people get very sentimental.\",\n",
    "    96  : \"I want people to know that I am an important person of high status.\",\n",
    "    97  : \"I have sympathy for people who are less fortunate than I am.\",\n",
    "    98  : \"I try to give generously to those in need.\",\n",
    "    99  : \"It wouldn’t bother me to harm someone I didn’t like.\",\n",
    "    100 : \"People see me as a hard-hearted person.\",\n",
    "}\n",
    "\n",
    "reversal = [1, 6, 9, 10, 12, 13, 15, 16, 19, 20, 21, 25, 29, 35, 36, 38, 41,\n",
    "    42, 44, 50, 51, 52, 54, 55, 56, 59, 63, 66, 70, 72, 74, 75, 76, 77, 79, 80,\n",
    "    82, 84, 85, 87, 89, 90, 91, 92, 93, 94, 95, 96, 99, 100]\n",
    "\n",
    "domains_questions = {\n",
    "    'h': [6, 12, 18, 24, 30, 36, 42, 48, 54, 60, 66, 72, 78, 84, 90, 96],\n",
    "    'e': [5, 11, 17, 23, 29, 35, 41, 47, 53, 59, 65, 71, 77, 83, 89, 95],\n",
    "    'x': [4, 10, 16, 22, 28, 34, 40, 46, 52, 58, 64, 70, 76, 82, 88, 94],\n",
    "    'a': [3, 9, 15, 21, 27, 33, 39, 45, 51, 57, 63, 69, 75, 81, 87, 93],\n",
    "    'c': [2, 8, 14, 20, 26, 32, 38, 44, 50, 56, 62, 68, 74, 80, 86, 92],\n",
    "    'o': [1, 7, 13, 19, 25, 31, 37, 43, 49, 55, 61, 67, 73, 79, 85, 91],\n",
    "}\n"
   ]
  },
  {
   "cell_type": "code",
   "execution_count": 2,
   "metadata": {},
   "outputs": [],
   "source": [
    "# Function to generate random responses\n",
    "def generate_random_responses(num_questions):\n",
    "    responses = {}\n",
    "    for i in range(1, num_questions + 1):\n",
    "        responses[i] = random.randint(1, 5)\n",
    "    return responses"
   ]
  },
  {
   "cell_type": "code",
   "execution_count": 3,
   "metadata": {},
   "outputs": [
    {
     "name": "stdout",
     "output_type": "stream",
     "text": [
      "responses: {1: 4, 2: 3, 3: 4, 4: 4, 5: 1, 6: 5, 7: 3, 8: 5, 9: 3, 10: 5, 11: 5, 12: 1, 13: 4, 14: 4, 15: 3, 16: 4, 17: 1, 18: 4, 19: 5, 20: 2, 21: 5, 22: 3, 23: 4, 24: 1, 25: 1, 26: 5, 27: 5, 28: 1, 29: 5, 30: 5, 31: 3, 32: 5, 33: 4, 34: 2, 35: 5, 36: 2, 37: 2, 38: 3, 39: 5, 40: 4, 41: 3, 42: 4, 43: 5, 44: 5, 45: 1, 46: 2, 47: 5, 48: 1, 49: 3, 50: 5, 51: 3, 52: 3, 53: 4, 54: 3, 55: 3, 56: 1, 57: 1, 58: 2, 59: 3, 60: 5, 61: 4, 62: 3, 63: 2, 64: 5, 65: 1, 66: 1, 67: 3, 68: 2, 69: 2, 70: 5, 71: 5, 72: 5, 73: 4, 74: 3, 75: 4, 76: 3, 77: 4, 78: 2, 79: 5, 80: 4, 81: 5, 82: 2, 83: 1, 84: 5, 85: 3, 86: 4, 87: 2, 88: 4, 89: 1, 90: 3, 91: 2, 92: 5, 93: 3, 94: 2, 95: 3, 96: 3, 97: 1, 98: 5, 99: 3, 100: 2}\n"
     ]
    }
   ],
   "source": [
    "# Test function\n",
    "random_responses = generate_random_responses(100)\n",
    "print(\"responses:\", random_responses)"
   ]
  },
  {
   "cell_type": "code",
   "execution_count": 4,
   "metadata": {},
   "outputs": [],
   "source": [
    "# Function to calculate scores\n",
    "def calculate_score(responses, domain_questions, reversal):\n",
    "    scores = {}\n",
    "    for domain, questions in domain_questions.items():\n",
    "        score = 0\n",
    "        for item in questions:\n",
    "            if item in reversal:\n",
    "                score += 6 - responses[item]  # Reverse the score\n",
    "            else:\n",
    "                score += responses[item]\n",
    "        scores[domain] = score / len(questions)\n",
    "    return scores"
   ]
  },
  {
   "cell_type": "code",
   "execution_count": 5,
   "metadata": {},
   "outputs": [
    {
     "name": "stdout",
     "output_type": "stream",
     "text": [
      "scores: {'h': 2.875, 'e': 2.8125, 'x': 2.8125, 'a': 3.125, 'c': 3.1875, 'o': 3.0}\n"
     ]
    }
   ],
   "source": [
    "# Test function\n",
    "random_scores = calculate_score(random_responses, domains_questions, reversal)\n",
    "print(\"scores:\", random_scores)\n"
   ]
  },
  {
   "cell_type": "code",
   "execution_count": 6,
   "metadata": {},
   "outputs": [],
   "source": [
    "# Function to save to CSV\n",
    "def save_to_csv(filename, scores, responses):\n",
    "    with open(filename, mode='w', newline='') as file:\n",
    "        writer = csv.writer(file)\n",
    "        writer.writerow([\"Domain\", \"Score\"])\n",
    "        for domain, score in scores.items():\n",
    "            writer.writerow([domain, score])\n",
    "        \n",
    "        writer.writerow([])\n",
    "        writer.writerow([\"Question\", \"Response\"])\n",
    "        for question, response in responses.items():\n",
    "            writer.writerow([question, response])"
   ]
  },
  {
   "cell_type": "code",
   "execution_count": 7,
   "metadata": {},
   "outputs": [
    {
     "name": "stdout",
     "output_type": "stream",
     "text": [
      "Randomly generated HEXACO personality profile saved to random_profile.csv\n"
     ]
    }
   ],
   "source": [
    "# Test function\n",
    "save_to_csv(\"random_profile.csv\", random_scores, random_responses)\n",
    "print(\"Randomly generated HEXACO personality profile saved to random_profile.csv\")"
   ]
  }
 ],
 "metadata": {
  "kernelspec": {
   "display_name": "Python 3",
   "language": "python",
   "name": "python3"
  },
  "language_info": {
   "codemirror_mode": {
    "name": "ipython",
    "version": 3
   },
   "file_extension": ".py",
   "mimetype": "text/x-python",
   "name": "python",
   "nbconvert_exporter": "python",
   "pygments_lexer": "ipython3",
   "version": "3.12.1"
  }
 },
 "nbformat": 4,
 "nbformat_minor": 2
}
