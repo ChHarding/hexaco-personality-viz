{
 "cells": [
  {
   "cell_type": "code",
   "execution_count": 3,
   "metadata": {},
   "outputs": [
    {
     "name": "stdout",
     "output_type": "stream",
     "text": [
      "                h           e           x           a           c           o\n",
      "count  200.000000  200.000000  200.000000  200.000000  200.000000  200.000000\n",
      "mean     2.372500    2.530625    2.564062    2.526562    2.470000    2.518125\n",
      "std      0.350981    0.352329    0.365963    0.296377    0.370840    0.358712\n",
      "min      1.500000    1.750000    1.500000    1.687500    1.375000    1.625000\n",
      "25%      2.125000    2.250000    2.312500    2.312500    2.250000    2.250000\n",
      "50%      2.312500    2.500000    2.562500    2.562500    2.500000    2.562500\n",
      "75%      2.625000    2.812500    2.812500    2.750000    2.703125    2.750000\n",
      "max      3.250000    3.562500    3.625000    3.312500    3.312500    3.312500\n"
     ]
    }
   ],
   "source": [
    "from main import create_data\n",
    "import plotly.express as px\n",
    "import plotly.graph_objects as go\n",
    "import numpy as np\n",
    "import random\n",
    "\n",
    "df = create_data(200)\n",
    "df = df.T\n",
    "\n",
    "summary_stats = df[['h', 'e', 'x', 'a', 'c', 'o']].describe()\n",
    "\n",
    "print(summary_stats)"
   ]
  },
  {
   "cell_type": "code",
   "execution_count": 4,
   "metadata": {},
   "outputs": [
    {
     "name": "stdout",
     "output_type": "stream",
     "text": [
      "Summary statistics for h:\n",
      "count    200.000000\n",
      "mean       2.372500\n",
      "std        0.350981\n",
      "min        1.500000\n",
      "25%        2.125000\n",
      "50%        2.312500\n",
      "75%        2.625000\n",
      "max        3.250000\n",
      "Name: h, dtype: float64\n",
      "\n",
      "\n",
      "Summary statistics for e:\n",
      "count    200.000000\n",
      "mean       2.530625\n",
      "std        0.352329\n",
      "min        1.750000\n",
      "25%        2.250000\n",
      "50%        2.500000\n",
      "75%        2.812500\n",
      "max        3.562500\n",
      "Name: e, dtype: float64\n",
      "\n",
      "\n",
      "Summary statistics for x:\n",
      "count    200.000000\n",
      "mean       2.564062\n",
      "std        0.365963\n",
      "min        1.500000\n",
      "25%        2.312500\n",
      "50%        2.562500\n",
      "75%        2.812500\n",
      "max        3.625000\n",
      "Name: x, dtype: float64\n",
      "\n",
      "\n",
      "Summary statistics for a:\n",
      "count    200.000000\n",
      "mean       2.526562\n",
      "std        0.296377\n",
      "min        1.687500\n",
      "25%        2.312500\n",
      "50%        2.562500\n",
      "75%        2.750000\n",
      "max        3.312500\n",
      "Name: a, dtype: float64\n",
      "\n",
      "\n",
      "Summary statistics for c:\n",
      "count    200.000000\n",
      "mean       2.470000\n",
      "std        0.370840\n",
      "min        1.375000\n",
      "25%        2.250000\n",
      "50%        2.500000\n",
      "75%        2.703125\n",
      "max        3.312500\n",
      "Name: c, dtype: float64\n",
      "\n",
      "\n",
      "Summary statistics for o:\n",
      "count    200.000000\n",
      "mean       2.518125\n",
      "std        0.358712\n",
      "min        1.625000\n",
      "25%        2.250000\n",
      "50%        2.562500\n",
      "75%        2.750000\n",
      "max        3.312500\n",
      "Name: o, dtype: float64\n",
      "\n",
      "\n"
     ]
    }
   ],
   "source": [
    "# print the summary statistics for each of the columns (H E X A C O) in df\n",
    "for col in ['h', 'e', 'x', 'a', 'c', 'o']:\n",
    "    print(f\"Summary statistics for {col}:\")\n",
    "    print(summary_stats[col])\n",
    "    print(\"\\n\")"
   ]
  },
  {
   "cell_type": "code",
   "execution_count": 5,
   "metadata": {},
   "outputs": [
    {
     "name": "stdout",
     "output_type": "stream",
     "text": [
      "             h         e         x         a        c         o\n",
      "mean  2.372500  2.530625  2.564062  2.526562  2.47000  2.518125\n",
      "std   0.350981  0.352329  0.365963  0.296377  0.37084  0.358712\n",
      "theoretical mean for number from 1 to 5 is: 3.0\n"
     ]
    }
   ],
   "source": [
    "# print out mean and std for each personality trait\n",
    "print(summary_stats.loc[['mean', 'std']])\n",
    "print(\"theoretical mean for number from 1 to 5 is:\", sum([1,2,3,4,5])/5 )"
   ]
  },
  {
   "cell_type": "code",
   "execution_count": 6,
   "metadata": {},
   "outputs": [
    {
     "data": {
      "application/vnd.plotly.v1+json": {
       "config": {
        "plotlyServerURL": "https://plot.ly"
       },
       "data": [
        {
         "alignmentgroup": "True",
         "error_y": {
          "array": [
           0.35098121612182004,
           0.35232926921379043,
           0.3659630062636353,
           0.2963766148550094,
           0.3708395676362261,
           0.35871190463607167
          ]
         },
         "hovertemplate": "x=%{x}<br>y=%{y}<extra></extra>",
         "legendgroup": "",
         "marker": {
          "color": "#636efa",
          "pattern": {
           "shape": ""
          }
         },
         "name": "",
         "offsetgroup": "",
         "orientation": "v",
         "showlegend": false,
         "textposition": "auto",
         "type": "bar",
         "x": [
          "h",
          "e",
          "x",
          "a",
          "c",
          "o"
         ],
         "xaxis": "x",
         "y": [
          2.3725,
          2.530625,
          2.5640625,
          2.5265625,
          2.47,
          2.518125
         ],
         "yaxis": "y"
        },
        {
         "marker": {
          "color": "#EF553B",
          "size": 10
         },
         "mode": "markers",
         "name": "Participant 1",
         "type": "scatter",
         "x": [
          "h",
          "e",
          "x",
          "a",
          "c",
          "o"
         ],
         "y": [
          3,
          2.9,
          2.7,
          3.6,
          3.5,
          2.8
         ]
        },
        {
         "marker": {
          "color": "#AB63FA",
          "size": 10
         },
         "mode": "markers",
         "name": "Participant 2",
         "type": "scatter",
         "x": [
          "h",
          "e",
          "x",
          "a",
          "c",
          "o"
         ],
         "y": [
          3.4,
          2.7,
          3.1,
          2.6,
          3.2,
          3.1
         ]
        }
       ],
       "layout": {
        "barmode": "relative",
        "legend": {
         "tracegroupgap": 0
        },
        "margin": {
         "t": 60
        },
        "template": {
         "data": {
          "bar": [
           {
            "error_x": {
             "color": "#2a3f5f"
            },
            "error_y": {
             "color": "#2a3f5f"
            },
            "marker": {
             "line": {
              "color": "#E5ECF6",
              "width": 0.5
             },
             "pattern": {
              "fillmode": "overlay",
              "size": 10,
              "solidity": 0.2
             }
            },
            "type": "bar"
           }
          ],
          "barpolar": [
           {
            "marker": {
             "line": {
              "color": "#E5ECF6",
              "width": 0.5
             },
             "pattern": {
              "fillmode": "overlay",
              "size": 10,
              "solidity": 0.2
             }
            },
            "type": "barpolar"
           }
          ],
          "carpet": [
           {
            "aaxis": {
             "endlinecolor": "#2a3f5f",
             "gridcolor": "white",
             "linecolor": "white",
             "minorgridcolor": "white",
             "startlinecolor": "#2a3f5f"
            },
            "baxis": {
             "endlinecolor": "#2a3f5f",
             "gridcolor": "white",
             "linecolor": "white",
             "minorgridcolor": "white",
             "startlinecolor": "#2a3f5f"
            },
            "type": "carpet"
           }
          ],
          "choropleth": [
           {
            "colorbar": {
             "outlinewidth": 0,
             "ticks": ""
            },
            "type": "choropleth"
           }
          ],
          "contour": [
           {
            "colorbar": {
             "outlinewidth": 0,
             "ticks": ""
            },
            "colorscale": [
             [
              0,
              "#0d0887"
             ],
             [
              0.1111111111111111,
              "#46039f"
             ],
             [
              0.2222222222222222,
              "#7201a8"
             ],
             [
              0.3333333333333333,
              "#9c179e"
             ],
             [
              0.4444444444444444,
              "#bd3786"
             ],
             [
              0.5555555555555556,
              "#d8576b"
             ],
             [
              0.6666666666666666,
              "#ed7953"
             ],
             [
              0.7777777777777778,
              "#fb9f3a"
             ],
             [
              0.8888888888888888,
              "#fdca26"
             ],
             [
              1,
              "#f0f921"
             ]
            ],
            "type": "contour"
           }
          ],
          "contourcarpet": [
           {
            "colorbar": {
             "outlinewidth": 0,
             "ticks": ""
            },
            "type": "contourcarpet"
           }
          ],
          "heatmap": [
           {
            "colorbar": {
             "outlinewidth": 0,
             "ticks": ""
            },
            "colorscale": [
             [
              0,
              "#0d0887"
             ],
             [
              0.1111111111111111,
              "#46039f"
             ],
             [
              0.2222222222222222,
              "#7201a8"
             ],
             [
              0.3333333333333333,
              "#9c179e"
             ],
             [
              0.4444444444444444,
              "#bd3786"
             ],
             [
              0.5555555555555556,
              "#d8576b"
             ],
             [
              0.6666666666666666,
              "#ed7953"
             ],
             [
              0.7777777777777778,
              "#fb9f3a"
             ],
             [
              0.8888888888888888,
              "#fdca26"
             ],
             [
              1,
              "#f0f921"
             ]
            ],
            "type": "heatmap"
           }
          ],
          "heatmapgl": [
           {
            "colorbar": {
             "outlinewidth": 0,
             "ticks": ""
            },
            "colorscale": [
             [
              0,
              "#0d0887"
             ],
             [
              0.1111111111111111,
              "#46039f"
             ],
             [
              0.2222222222222222,
              "#7201a8"
             ],
             [
              0.3333333333333333,
              "#9c179e"
             ],
             [
              0.4444444444444444,
              "#bd3786"
             ],
             [
              0.5555555555555556,
              "#d8576b"
             ],
             [
              0.6666666666666666,
              "#ed7953"
             ],
             [
              0.7777777777777778,
              "#fb9f3a"
             ],
             [
              0.8888888888888888,
              "#fdca26"
             ],
             [
              1,
              "#f0f921"
             ]
            ],
            "type": "heatmapgl"
           }
          ],
          "histogram": [
           {
            "marker": {
             "pattern": {
              "fillmode": "overlay",
              "size": 10,
              "solidity": 0.2
             }
            },
            "type": "histogram"
           }
          ],
          "histogram2d": [
           {
            "colorbar": {
             "outlinewidth": 0,
             "ticks": ""
            },
            "colorscale": [
             [
              0,
              "#0d0887"
             ],
             [
              0.1111111111111111,
              "#46039f"
             ],
             [
              0.2222222222222222,
              "#7201a8"
             ],
             [
              0.3333333333333333,
              "#9c179e"
             ],
             [
              0.4444444444444444,
              "#bd3786"
             ],
             [
              0.5555555555555556,
              "#d8576b"
             ],
             [
              0.6666666666666666,
              "#ed7953"
             ],
             [
              0.7777777777777778,
              "#fb9f3a"
             ],
             [
              0.8888888888888888,
              "#fdca26"
             ],
             [
              1,
              "#f0f921"
             ]
            ],
            "type": "histogram2d"
           }
          ],
          "histogram2dcontour": [
           {
            "colorbar": {
             "outlinewidth": 0,
             "ticks": ""
            },
            "colorscale": [
             [
              0,
              "#0d0887"
             ],
             [
              0.1111111111111111,
              "#46039f"
             ],
             [
              0.2222222222222222,
              "#7201a8"
             ],
             [
              0.3333333333333333,
              "#9c179e"
             ],
             [
              0.4444444444444444,
              "#bd3786"
             ],
             [
              0.5555555555555556,
              "#d8576b"
             ],
             [
              0.6666666666666666,
              "#ed7953"
             ],
             [
              0.7777777777777778,
              "#fb9f3a"
             ],
             [
              0.8888888888888888,
              "#fdca26"
             ],
             [
              1,
              "#f0f921"
             ]
            ],
            "type": "histogram2dcontour"
           }
          ],
          "mesh3d": [
           {
            "colorbar": {
             "outlinewidth": 0,
             "ticks": ""
            },
            "type": "mesh3d"
           }
          ],
          "parcoords": [
           {
            "line": {
             "colorbar": {
              "outlinewidth": 0,
              "ticks": ""
             }
            },
            "type": "parcoords"
           }
          ],
          "pie": [
           {
            "automargin": true,
            "type": "pie"
           }
          ],
          "scatter": [
           {
            "fillpattern": {
             "fillmode": "overlay",
             "size": 10,
             "solidity": 0.2
            },
            "type": "scatter"
           }
          ],
          "scatter3d": [
           {
            "line": {
             "colorbar": {
              "outlinewidth": 0,
              "ticks": ""
             }
            },
            "marker": {
             "colorbar": {
              "outlinewidth": 0,
              "ticks": ""
             }
            },
            "type": "scatter3d"
           }
          ],
          "scattercarpet": [
           {
            "marker": {
             "colorbar": {
              "outlinewidth": 0,
              "ticks": ""
             }
            },
            "type": "scattercarpet"
           }
          ],
          "scattergeo": [
           {
            "marker": {
             "colorbar": {
              "outlinewidth": 0,
              "ticks": ""
             }
            },
            "type": "scattergeo"
           }
          ],
          "scattergl": [
           {
            "marker": {
             "colorbar": {
              "outlinewidth": 0,
              "ticks": ""
             }
            },
            "type": "scattergl"
           }
          ],
          "scattermapbox": [
           {
            "marker": {
             "colorbar": {
              "outlinewidth": 0,
              "ticks": ""
             }
            },
            "type": "scattermapbox"
           }
          ],
          "scatterpolar": [
           {
            "marker": {
             "colorbar": {
              "outlinewidth": 0,
              "ticks": ""
             }
            },
            "type": "scatterpolar"
           }
          ],
          "scatterpolargl": [
           {
            "marker": {
             "colorbar": {
              "outlinewidth": 0,
              "ticks": ""
             }
            },
            "type": "scatterpolargl"
           }
          ],
          "scatterternary": [
           {
            "marker": {
             "colorbar": {
              "outlinewidth": 0,
              "ticks": ""
             }
            },
            "type": "scatterternary"
           }
          ],
          "surface": [
           {
            "colorbar": {
             "outlinewidth": 0,
             "ticks": ""
            },
            "colorscale": [
             [
              0,
              "#0d0887"
             ],
             [
              0.1111111111111111,
              "#46039f"
             ],
             [
              0.2222222222222222,
              "#7201a8"
             ],
             [
              0.3333333333333333,
              "#9c179e"
             ],
             [
              0.4444444444444444,
              "#bd3786"
             ],
             [
              0.5555555555555556,
              "#d8576b"
             ],
             [
              0.6666666666666666,
              "#ed7953"
             ],
             [
              0.7777777777777778,
              "#fb9f3a"
             ],
             [
              0.8888888888888888,
              "#fdca26"
             ],
             [
              1,
              "#f0f921"
             ]
            ],
            "type": "surface"
           }
          ],
          "table": [
           {
            "cells": {
             "fill": {
              "color": "#EBF0F8"
             },
             "line": {
              "color": "white"
             }
            },
            "header": {
             "fill": {
              "color": "#C8D4E3"
             },
             "line": {
              "color": "white"
             }
            },
            "type": "table"
           }
          ]
         },
         "layout": {
          "annotationdefaults": {
           "arrowcolor": "#2a3f5f",
           "arrowhead": 0,
           "arrowwidth": 1
          },
          "autotypenumbers": "strict",
          "coloraxis": {
           "colorbar": {
            "outlinewidth": 0,
            "ticks": ""
           }
          },
          "colorscale": {
           "diverging": [
            [
             0,
             "#8e0152"
            ],
            [
             0.1,
             "#c51b7d"
            ],
            [
             0.2,
             "#de77ae"
            ],
            [
             0.3,
             "#f1b6da"
            ],
            [
             0.4,
             "#fde0ef"
            ],
            [
             0.5,
             "#f7f7f7"
            ],
            [
             0.6,
             "#e6f5d0"
            ],
            [
             0.7,
             "#b8e186"
            ],
            [
             0.8,
             "#7fbc41"
            ],
            [
             0.9,
             "#4d9221"
            ],
            [
             1,
             "#276419"
            ]
           ],
           "sequential": [
            [
             0,
             "#0d0887"
            ],
            [
             0.1111111111111111,
             "#46039f"
            ],
            [
             0.2222222222222222,
             "#7201a8"
            ],
            [
             0.3333333333333333,
             "#9c179e"
            ],
            [
             0.4444444444444444,
             "#bd3786"
            ],
            [
             0.5555555555555556,
             "#d8576b"
            ],
            [
             0.6666666666666666,
             "#ed7953"
            ],
            [
             0.7777777777777778,
             "#fb9f3a"
            ],
            [
             0.8888888888888888,
             "#fdca26"
            ],
            [
             1,
             "#f0f921"
            ]
           ],
           "sequentialminus": [
            [
             0,
             "#0d0887"
            ],
            [
             0.1111111111111111,
             "#46039f"
            ],
            [
             0.2222222222222222,
             "#7201a8"
            ],
            [
             0.3333333333333333,
             "#9c179e"
            ],
            [
             0.4444444444444444,
             "#bd3786"
            ],
            [
             0.5555555555555556,
             "#d8576b"
            ],
            [
             0.6666666666666666,
             "#ed7953"
            ],
            [
             0.7777777777777778,
             "#fb9f3a"
            ],
            [
             0.8888888888888888,
             "#fdca26"
            ],
            [
             1,
             "#f0f921"
            ]
           ]
          },
          "colorway": [
           "#636efa",
           "#EF553B",
           "#00cc96",
           "#ab63fa",
           "#FFA15A",
           "#19d3f3",
           "#FF6692",
           "#B6E880",
           "#FF97FF",
           "#FECB52"
          ],
          "font": {
           "color": "#2a3f5f"
          },
          "geo": {
           "bgcolor": "white",
           "lakecolor": "white",
           "landcolor": "#E5ECF6",
           "showlakes": true,
           "showland": true,
           "subunitcolor": "white"
          },
          "hoverlabel": {
           "align": "left"
          },
          "hovermode": "closest",
          "mapbox": {
           "style": "light"
          },
          "paper_bgcolor": "white",
          "plot_bgcolor": "#E5ECF6",
          "polar": {
           "angularaxis": {
            "gridcolor": "white",
            "linecolor": "white",
            "ticks": ""
           },
           "bgcolor": "#E5ECF6",
           "radialaxis": {
            "gridcolor": "white",
            "linecolor": "white",
            "ticks": ""
           }
          },
          "scene": {
           "xaxis": {
            "backgroundcolor": "#E5ECF6",
            "gridcolor": "white",
            "gridwidth": 2,
            "linecolor": "white",
            "showbackground": true,
            "ticks": "",
            "zerolinecolor": "white"
           },
           "yaxis": {
            "backgroundcolor": "#E5ECF6",
            "gridcolor": "white",
            "gridwidth": 2,
            "linecolor": "white",
            "showbackground": true,
            "ticks": "",
            "zerolinecolor": "white"
           },
           "zaxis": {
            "backgroundcolor": "#E5ECF6",
            "gridcolor": "white",
            "gridwidth": 2,
            "linecolor": "white",
            "showbackground": true,
            "ticks": "",
            "zerolinecolor": "white"
           }
          },
          "shapedefaults": {
           "line": {
            "color": "#2a3f5f"
           }
          },
          "ternary": {
           "aaxis": {
            "gridcolor": "white",
            "linecolor": "white",
            "ticks": ""
           },
           "baxis": {
            "gridcolor": "white",
            "linecolor": "white",
            "ticks": ""
           },
           "bgcolor": "#E5ECF6",
           "caxis": {
            "gridcolor": "white",
            "linecolor": "white",
            "ticks": ""
           }
          },
          "title": {
           "x": 0.05
          },
          "xaxis": {
           "automargin": true,
           "gridcolor": "white",
           "linecolor": "white",
           "ticks": "",
           "title": {
            "standoff": 15
           },
           "zerolinecolor": "white",
           "zerolinewidth": 2
          },
          "yaxis": {
           "automargin": true,
           "gridcolor": "white",
           "linecolor": "white",
           "ticks": "",
           "title": {
            "standoff": 15
           },
           "zerolinecolor": "white",
           "zerolinewidth": 2
          }
         }
        },
        "title": {
         "text": "Mean for each trait for 200 Participants"
        },
        "xaxis": {
         "anchor": "y",
         "domain": [
          0,
          1
         ],
         "title": {
          "text": "Trait"
         }
        },
        "yaxis": {
         "anchor": "x",
         "domain": [
          0,
          1
         ],
         "range": [
          2,
          4
         ],
         "title": {
          "text": "Mean"
         }
        }
       }
      }
     },
     "metadata": {},
     "output_type": "display_data"
    }
   ],
   "source": [
    "# Using summary_stats and plotly, plot a bar chart of the difference of mean to 3.5 for each HEXACO trait and use std as error bars\n",
    "\n",
    "prt_values = [\n",
    "    [ 3., 2.9, 2.7, 3.6, 3.5, 2.8], # participant 1\n",
    "    [ 3.4, 2.7, 3.1, 2.6, 3.2, 3.1], # participant 2\n",
    "]\n",
    "\n",
    "mean = summary_stats.loc['mean'] \n",
    "\n",
    "std = summary_stats.loc['std']\n",
    "\n",
    "fig = px.bar(x=mean.index, y=mean, error_y=std)\n",
    "\n",
    "colors_used = []\n",
    "\n",
    "for i, my_values in enumerate(prt_values):\n",
    "    color = random.choice(px.colors.qualitative.Plotly)\n",
    "    while color in colors_used:\n",
    "        color = random.choice(px.colors.qualitative.Plotly)\n",
    "        colors_used.append(color)\n",
    "\n",
    "    fig.add_trace(go.Scatter(\n",
    "        x=['h', 'e', 'x', 'a', 'c', 'o'],\n",
    "        y=my_values,\n",
    "        mode='markers',\n",
    "        marker=dict(color=color, size=10),\n",
    "        name=f'Participant {i+1}'\n",
    "    ))\n",
    "\n",
    "\n",
    "fig.update_layout(\n",
    "    xaxis_title='Trait',\n",
    "    yaxis_title='Mean',\n",
    "    title=f'Mean for each trait for {len(df)} Participants',\n",
    "    yaxis=dict(range=[2, 4])\n",
    "    \n",
    ")\n",
    "fig.show()"
   ]
  },
  {
   "cell_type": "code",
   "execution_count": 7,
   "metadata": {},
   "outputs": [
    {
     "data": {
      "application/vnd.plotly.v1+json": {
       "config": {
        "plotlyServerURL": "https://plot.ly"
       },
       "data": [
        {
         "alignmentgroup": "True",
         "hovertemplate": "variable=%{x}<br>value=%{y}<extra></extra>",
         "legendgroup": "",
         "marker": {
          "color": "#636efa"
         },
         "name": "",
         "notched": false,
         "offsetgroup": "",
         "orientation": "v",
         "showlegend": false,
         "type": "box",
         "x": [
          "h",
          "h",
          "h",
          "h",
          "h",
          "h",
          "h",
          "h",
          "h",
          "h",
          "h",
          "h",
          "h",
          "h",
          "h",
          "h",
          "h",
          "h",
          "h",
          "h",
          "h",
          "h",
          "h",
          "h",
          "h",
          "h",
          "h",
          "h",
          "h",
          "h",
          "h",
          "h",
          "h",
          "h",
          "h",
          "h",
          "h",
          "h",
          "h",
          "h",
          "h",
          "h",
          "h",
          "h",
          "h",
          "h",
          "h",
          "h",
          "h",
          "h",
          "h",
          "h",
          "h",
          "h",
          "h",
          "h",
          "h",
          "h",
          "h",
          "h",
          "h",
          "h",
          "h",
          "h",
          "h",
          "h",
          "h",
          "h",
          "h",
          "h",
          "h",
          "h",
          "h",
          "h",
          "h",
          "h",
          "h",
          "h",
          "h",
          "h",
          "h",
          "h",
          "h",
          "h",
          "h",
          "h",
          "h",
          "h",
          "h",
          "h",
          "h",
          "h",
          "h",
          "h",
          "h",
          "h",
          "h",
          "h",
          "h",
          "h",
          "h",
          "h",
          "h",
          "h",
          "h",
          "h",
          "h",
          "h",
          "h",
          "h",
          "h",
          "h",
          "h",
          "h",
          "h",
          "h",
          "h",
          "h",
          "h",
          "h",
          "h",
          "h",
          "h",
          "h",
          "h",
          "h",
          "h",
          "h",
          "h",
          "h",
          "h",
          "h",
          "h",
          "h",
          "h",
          "h",
          "h",
          "h",
          "h",
          "h",
          "h",
          "h",
          "h",
          "h",
          "h",
          "h",
          "h",
          "h",
          "h",
          "h",
          "h",
          "h",
          "h",
          "h",
          "h",
          "h",
          "h",
          "h",
          "h",
          "h",
          "h",
          "h",
          "h",
          "h",
          "h",
          "h",
          "h",
          "h",
          "h",
          "h",
          "h",
          "h",
          "h",
          "h",
          "h",
          "h",
          "h",
          "h",
          "h",
          "h",
          "h",
          "h",
          "h",
          "h",
          "h",
          "h",
          "h",
          "h",
          "h",
          "h",
          "h",
          "h",
          "h",
          "h",
          "h",
          "h",
          "h",
          "h",
          "h",
          "h",
          "e",
          "e",
          "e",
          "e",
          "e",
          "e",
          "e",
          "e",
          "e",
          "e",
          "e",
          "e",
          "e",
          "e",
          "e",
          "e",
          "e",
          "e",
          "e",
          "e",
          "e",
          "e",
          "e",
          "e",
          "e",
          "e",
          "e",
          "e",
          "e",
          "e",
          "e",
          "e",
          "e",
          "e",
          "e",
          "e",
          "e",
          "e",
          "e",
          "e",
          "e",
          "e",
          "e",
          "e",
          "e",
          "e",
          "e",
          "e",
          "e",
          "e",
          "e",
          "e",
          "e",
          "e",
          "e",
          "e",
          "e",
          "e",
          "e",
          "e",
          "e",
          "e",
          "e",
          "e",
          "e",
          "e",
          "e",
          "e",
          "e",
          "e",
          "e",
          "e",
          "e",
          "e",
          "e",
          "e",
          "e",
          "e",
          "e",
          "e",
          "e",
          "e",
          "e",
          "e",
          "e",
          "e",
          "e",
          "e",
          "e",
          "e",
          "e",
          "e",
          "e",
          "e",
          "e",
          "e",
          "e",
          "e",
          "e",
          "e",
          "e",
          "e",
          "e",
          "e",
          "e",
          "e",
          "e",
          "e",
          "e",
          "e",
          "e",
          "e",
          "e",
          "e",
          "e",
          "e",
          "e",
          "e",
          "e",
          "e",
          "e",
          "e",
          "e",
          "e",
          "e",
          "e",
          "e",
          "e",
          "e",
          "e",
          "e",
          "e",
          "e",
          "e",
          "e",
          "e",
          "e",
          "e",
          "e",
          "e",
          "e",
          "e",
          "e",
          "e",
          "e",
          "e",
          "e",
          "e",
          "e",
          "e",
          "e",
          "e",
          "e",
          "e",
          "e",
          "e",
          "e",
          "e",
          "e",
          "e",
          "e",
          "e",
          "e",
          "e",
          "e",
          "e",
          "e",
          "e",
          "e",
          "e",
          "e",
          "e",
          "e",
          "e",
          "e",
          "e",
          "e",
          "e",
          "e",
          "e",
          "e",
          "e",
          "e",
          "e",
          "e",
          "e",
          "e",
          "e",
          "e",
          "e",
          "e",
          "e",
          "e",
          "e",
          "e",
          "e",
          "e",
          "e",
          "e",
          "e",
          "x",
          "x",
          "x",
          "x",
          "x",
          "x",
          "x",
          "x",
          "x",
          "x",
          "x",
          "x",
          "x",
          "x",
          "x",
          "x",
          "x",
          "x",
          "x",
          "x",
          "x",
          "x",
          "x",
          "x",
          "x",
          "x",
          "x",
          "x",
          "x",
          "x",
          "x",
          "x",
          "x",
          "x",
          "x",
          "x",
          "x",
          "x",
          "x",
          "x",
          "x",
          "x",
          "x",
          "x",
          "x",
          "x",
          "x",
          "x",
          "x",
          "x",
          "x",
          "x",
          "x",
          "x",
          "x",
          "x",
          "x",
          "x",
          "x",
          "x",
          "x",
          "x",
          "x",
          "x",
          "x",
          "x",
          "x",
          "x",
          "x",
          "x",
          "x",
          "x",
          "x",
          "x",
          "x",
          "x",
          "x",
          "x",
          "x",
          "x",
          "x",
          "x",
          "x",
          "x",
          "x",
          "x",
          "x",
          "x",
          "x",
          "x",
          "x",
          "x",
          "x",
          "x",
          "x",
          "x",
          "x",
          "x",
          "x",
          "x",
          "x",
          "x",
          "x",
          "x",
          "x",
          "x",
          "x",
          "x",
          "x",
          "x",
          "x",
          "x",
          "x",
          "x",
          "x",
          "x",
          "x",
          "x",
          "x",
          "x",
          "x",
          "x",
          "x",
          "x",
          "x",
          "x",
          "x",
          "x",
          "x",
          "x",
          "x",
          "x",
          "x",
          "x",
          "x",
          "x",
          "x",
          "x",
          "x",
          "x",
          "x",
          "x",
          "x",
          "x",
          "x",
          "x",
          "x",
          "x",
          "x",
          "x",
          "x",
          "x",
          "x",
          "x",
          "x",
          "x",
          "x",
          "x",
          "x",
          "x",
          "x",
          "x",
          "x",
          "x",
          "x",
          "x",
          "x",
          "x",
          "x",
          "x",
          "x",
          "x",
          "x",
          "x",
          "x",
          "x",
          "x",
          "x",
          "x",
          "x",
          "x",
          "x",
          "x",
          "x",
          "x",
          "x",
          "x",
          "x",
          "x",
          "x",
          "x",
          "x",
          "x",
          "x",
          "x",
          "x",
          "x",
          "x",
          "x",
          "x",
          "a",
          "a",
          "a",
          "a",
          "a",
          "a",
          "a",
          "a",
          "a",
          "a",
          "a",
          "a",
          "a",
          "a",
          "a",
          "a",
          "a",
          "a",
          "a",
          "a",
          "a",
          "a",
          "a",
          "a",
          "a",
          "a",
          "a",
          "a",
          "a",
          "a",
          "a",
          "a",
          "a",
          "a",
          "a",
          "a",
          "a",
          "a",
          "a",
          "a",
          "a",
          "a",
          "a",
          "a",
          "a",
          "a",
          "a",
          "a",
          "a",
          "a",
          "a",
          "a",
          "a",
          "a",
          "a",
          "a",
          "a",
          "a",
          "a",
          "a",
          "a",
          "a",
          "a",
          "a",
          "a",
          "a",
          "a",
          "a",
          "a",
          "a",
          "a",
          "a",
          "a",
          "a",
          "a",
          "a",
          "a",
          "a",
          "a",
          "a",
          "a",
          "a",
          "a",
          "a",
          "a",
          "a",
          "a",
          "a",
          "a",
          "a",
          "a",
          "a",
          "a",
          "a",
          "a",
          "a",
          "a",
          "a",
          "a",
          "a",
          "a",
          "a",
          "a",
          "a",
          "a",
          "a",
          "a",
          "a",
          "a",
          "a",
          "a",
          "a",
          "a",
          "a",
          "a",
          "a",
          "a",
          "a",
          "a",
          "a",
          "a",
          "a",
          "a",
          "a",
          "a",
          "a",
          "a",
          "a",
          "a",
          "a",
          "a",
          "a",
          "a",
          "a",
          "a",
          "a",
          "a",
          "a",
          "a",
          "a",
          "a",
          "a",
          "a",
          "a",
          "a",
          "a",
          "a",
          "a",
          "a",
          "a",
          "a",
          "a",
          "a",
          "a",
          "a",
          "a",
          "a",
          "a",
          "a",
          "a",
          "a",
          "a",
          "a",
          "a",
          "a",
          "a",
          "a",
          "a",
          "a",
          "a",
          "a",
          "a",
          "a",
          "a",
          "a",
          "a",
          "a",
          "a",
          "a",
          "a",
          "a",
          "a",
          "a",
          "a",
          "a",
          "a",
          "a",
          "a",
          "a",
          "a",
          "a",
          "a",
          "a",
          "a",
          "a",
          "a",
          "a",
          "a",
          "a",
          "a",
          "c",
          "c",
          "c",
          "c",
          "c",
          "c",
          "c",
          "c",
          "c",
          "c",
          "c",
          "c",
          "c",
          "c",
          "c",
          "c",
          "c",
          "c",
          "c",
          "c",
          "c",
          "c",
          "c",
          "c",
          "c",
          "c",
          "c",
          "c",
          "c",
          "c",
          "c",
          "c",
          "c",
          "c",
          "c",
          "c",
          "c",
          "c",
          "c",
          "c",
          "c",
          "c",
          "c",
          "c",
          "c",
          "c",
          "c",
          "c",
          "c",
          "c",
          "c",
          "c",
          "c",
          "c",
          "c",
          "c",
          "c",
          "c",
          "c",
          "c",
          "c",
          "c",
          "c",
          "c",
          "c",
          "c",
          "c",
          "c",
          "c",
          "c",
          "c",
          "c",
          "c",
          "c",
          "c",
          "c",
          "c",
          "c",
          "c",
          "c",
          "c",
          "c",
          "c",
          "c",
          "c",
          "c",
          "c",
          "c",
          "c",
          "c",
          "c",
          "c",
          "c",
          "c",
          "c",
          "c",
          "c",
          "c",
          "c",
          "c",
          "c",
          "c",
          "c",
          "c",
          "c",
          "c",
          "c",
          "c",
          "c",
          "c",
          "c",
          "c",
          "c",
          "c",
          "c",
          "c",
          "c",
          "c",
          "c",
          "c",
          "c",
          "c",
          "c",
          "c",
          "c",
          "c",
          "c",
          "c",
          "c",
          "c",
          "c",
          "c",
          "c",
          "c",
          "c",
          "c",
          "c",
          "c",
          "c",
          "c",
          "c",
          "c",
          "c",
          "c",
          "c",
          "c",
          "c",
          "c",
          "c",
          "c",
          "c",
          "c",
          "c",
          "c",
          "c",
          "c",
          "c",
          "c",
          "c",
          "c",
          "c",
          "c",
          "c",
          "c",
          "c",
          "c",
          "c",
          "c",
          "c",
          "c",
          "c",
          "c",
          "c",
          "c",
          "c",
          "c",
          "c",
          "c",
          "c",
          "c",
          "c",
          "c",
          "c",
          "c",
          "c",
          "c",
          "c",
          "c",
          "c",
          "c",
          "c",
          "c",
          "c",
          "c",
          "c",
          "c",
          "c",
          "c",
          "c",
          "c",
          "o",
          "o",
          "o",
          "o",
          "o",
          "o",
          "o",
          "o",
          "o",
          "o",
          "o",
          "o",
          "o",
          "o",
          "o",
          "o",
          "o",
          "o",
          "o",
          "o",
          "o",
          "o",
          "o",
          "o",
          "o",
          "o",
          "o",
          "o",
          "o",
          "o",
          "o",
          "o",
          "o",
          "o",
          "o",
          "o",
          "o",
          "o",
          "o",
          "o",
          "o",
          "o",
          "o",
          "o",
          "o",
          "o",
          "o",
          "o",
          "o",
          "o",
          "o",
          "o",
          "o",
          "o",
          "o",
          "o",
          "o",
          "o",
          "o",
          "o",
          "o",
          "o",
          "o",
          "o",
          "o",
          "o",
          "o",
          "o",
          "o",
          "o",
          "o",
          "o",
          "o",
          "o",
          "o",
          "o",
          "o",
          "o",
          "o",
          "o",
          "o",
          "o",
          "o",
          "o",
          "o",
          "o",
          "o",
          "o",
          "o",
          "o",
          "o",
          "o",
          "o",
          "o",
          "o",
          "o",
          "o",
          "o",
          "o",
          "o",
          "o",
          "o",
          "o",
          "o",
          "o",
          "o",
          "o",
          "o",
          "o",
          "o",
          "o",
          "o",
          "o",
          "o",
          "o",
          "o",
          "o",
          "o",
          "o",
          "o",
          "o",
          "o",
          "o",
          "o",
          "o",
          "o",
          "o",
          "o",
          "o",
          "o",
          "o",
          "o",
          "o",
          "o",
          "o",
          "o",
          "o",
          "o",
          "o",
          "o",
          "o",
          "o",
          "o",
          "o",
          "o",
          "o",
          "o",
          "o",
          "o",
          "o",
          "o",
          "o",
          "o",
          "o",
          "o",
          "o",
          "o",
          "o",
          "o",
          "o",
          "o",
          "o",
          "o",
          "o",
          "o",
          "o",
          "o",
          "o",
          "o",
          "o",
          "o",
          "o",
          "o",
          "o",
          "o",
          "o",
          "o",
          "o",
          "o",
          "o",
          "o",
          "o",
          "o",
          "o",
          "o",
          "o",
          "o",
          "o",
          "o",
          "o",
          "o",
          "o",
          "o",
          "o",
          "o",
          "o",
          "o",
          "o",
          "o",
          "o"
         ],
         "x0": " ",
         "xaxis": "x",
         "y": [
          2.6875,
          2.25,
          2.6875,
          2.875,
          1.8125,
          2.5,
          2,
          2.1875,
          2.1875,
          2.3125,
          2.0625,
          2.9375,
          2.875,
          3.125,
          2.75,
          2.1875,
          1.9375,
          2.8125,
          2.3125,
          2.3125,
          2.3125,
          2.0625,
          2.75,
          2.3125,
          2.125,
          2.3125,
          2.5,
          1.8125,
          2.125,
          3,
          2.25,
          3.125,
          2.0625,
          2.375,
          2.4375,
          1.9375,
          2.5,
          2.125,
          3,
          2.3125,
          2.375,
          1.8125,
          2.375,
          2.375,
          2.5625,
          2,
          2.125,
          2.4375,
          2.3125,
          1.875,
          1.8125,
          3,
          2.1875,
          2.625,
          2.0625,
          2.25,
          2.75,
          2.9375,
          2.5625,
          1.875,
          2,
          1.9375,
          2.375,
          2.1875,
          2.3125,
          2.3125,
          2.8125,
          2.3125,
          2.75,
          2.8125,
          2.9375,
          2.6875,
          2.8125,
          2.75,
          2.625,
          2.6875,
          2,
          2.625,
          2.375,
          2.0625,
          2.25,
          2.9375,
          2.125,
          2.625,
          2,
          2.4375,
          2.8125,
          2.5,
          2.75,
          2,
          2.25,
          2.25,
          2.25,
          2.625,
          2.5,
          2.5,
          2.5,
          2.1875,
          2.9375,
          2.375,
          2.6875,
          2.8125,
          2.25,
          2.8125,
          2.25,
          1.6875,
          2,
          2.625,
          2.0625,
          1.875,
          1.75,
          2.125,
          2.75,
          1.75,
          2.0625,
          2.25,
          1.875,
          2.375,
          2.4375,
          1.9375,
          3.0625,
          3.125,
          1.5,
          2.125,
          2.5625,
          2.5625,
          2.8125,
          1.9375,
          2.8125,
          2.4375,
          2.125,
          2.3125,
          2.3125,
          2.25,
          2,
          2,
          2.25,
          2.3125,
          2.375,
          3.125,
          2.1875,
          2.375,
          2.75,
          2.6875,
          2.125,
          2.75,
          2.125,
          2.125,
          2.1875,
          2.3125,
          2.625,
          2.0625,
          2.625,
          2,
          2,
          2.3125,
          1.9375,
          1.9375,
          2.875,
          2.6875,
          3.25,
          1.9375,
          2,
          2.5625,
          2.5625,
          2.625,
          2,
          2.9375,
          2.3125,
          2.1875,
          2.25,
          2.25,
          2.4375,
          1.8125,
          1.75,
          2.8125,
          2.75,
          2.3125,
          2.1875,
          2,
          2.0625,
          2.5625,
          2.1875,
          2.4375,
          2.3125,
          2.0625,
          2.5625,
          2.25,
          2.4375,
          2.3125,
          2,
          2.3125,
          1.875,
          2.5625,
          2.3125,
          2.25,
          3,
          2.5,
          2.9375,
          2.8125,
          2.6875,
          2.5,
          1.875,
          3.0625,
          2.5625,
          2.0625,
          2.125,
          2.6875,
          2.5625,
          2.5,
          2.9375,
          2.5,
          2.75,
          1.875,
          2.25,
          2.9375,
          2.4375,
          2.875,
          2.1875,
          2.25,
          3.0625,
          2.5,
          2,
          2.0625,
          2.0625,
          2.625,
          2.6875,
          2.3125,
          2.5625,
          2.9375,
          2.25,
          2.375,
          2.5625,
          2.875,
          2.9375,
          3,
          2.375,
          3,
          2.125,
          2.6875,
          2.5625,
          2.9375,
          2,
          2.4375,
          2.75,
          2.1875,
          2.5625,
          2.4375,
          1.9375,
          2.5625,
          2.5,
          2.625,
          3.0625,
          2.5,
          2.4375,
          2.4375,
          2.375,
          2.8125,
          2.1875,
          2.75,
          2.8125,
          3.1875,
          2.8125,
          2.3125,
          2.625,
          2.3125,
          2.375,
          3.125,
          2.875,
          2.5,
          2.9375,
          2.1875,
          2.125,
          3.0625,
          3.3125,
          1.9375,
          2.4375,
          2.5,
          2.5625,
          2.6875,
          2.125,
          2.125,
          2.625,
          2.8125,
          2.4375,
          2.8125,
          2.8125,
          2.9375,
          2.8125,
          2,
          2.8125,
          2.875,
          2,
          3.125,
          2.0625,
          2.375,
          2,
          2.5,
          1.8125,
          2.75,
          2.125,
          2.6875,
          2.3125,
          2.5,
          2.875,
          3,
          3,
          2.25,
          2.5625,
          2.125,
          3,
          2.625,
          2.4375,
          2.6875,
          2.5,
          2.5625,
          2.5,
          2.375,
          2.375,
          2.75,
          2.5625,
          2.8125,
          1.75,
          3,
          1.75,
          2.75,
          2.75,
          2.875,
          2.75,
          2.5,
          2.625,
          2.8125,
          2.375,
          2.1875,
          2.9375,
          2.3125,
          2.125,
          2.5,
          1.9375,
          2.6875,
          2.5,
          2.1875,
          2.4375,
          3.1875,
          2.5,
          2.0625,
          2,
          2.8125,
          2.0625,
          2.875,
          3.5625,
          2.8125,
          2.25,
          2.25,
          2.875,
          2.5625,
          2.75,
          2.75,
          2.625,
          2.5625,
          3.3125,
          2.1875,
          2.25,
          3.125,
          2.5,
          2.375,
          2.5,
          2.6875,
          3.3125,
          2,
          2.5,
          2.625,
          1.9375,
          2.25,
          1.9375,
          2,
          2.4375,
          2.6875,
          3.0625,
          2.25,
          2.375,
          2.4375,
          2.625,
          1.8125,
          2.6875,
          2.1875,
          2.5625,
          2.4375,
          2.8125,
          3,
          2.75,
          2.1875,
          2.9375,
          2.1875,
          2.375,
          2.8125,
          2.75,
          2.125,
          2.5,
          2.5625,
          3.3125,
          2.125,
          2.8125,
          1.875,
          2.25,
          2.4375,
          2.5,
          2,
          2.375,
          2.375,
          2.875,
          2.6875,
          2.8125,
          2.3125,
          2.5,
          2.5,
          2.1875,
          3.125,
          2.6875,
          2.875,
          2.3125,
          2.375,
          2.4375,
          2.4375,
          2.75,
          2.875,
          2.375,
          2.625,
          2.75,
          2.1875,
          2.875,
          2.4375,
          3.0625,
          2.75,
          2.6875,
          2.1875,
          1.9375,
          2.625,
          2.375,
          2.4375,
          2.4375,
          2.0625,
          2.375,
          2.8125,
          2.9375,
          2.75,
          2.25,
          2.5625,
          2.625,
          1.75,
          3,
          2,
          2.125,
          2.625,
          3,
          2.125,
          2.5,
          2.8125,
          2.6875,
          2.8125,
          2.75,
          2.5625,
          2.3125,
          2.125,
          2.375,
          2.625,
          2.625,
          2.625,
          2.4375,
          3,
          2,
          2.1875,
          2.625,
          2.375,
          2.4375,
          2.5625,
          2.6875,
          2.8125,
          2.5625,
          2.25,
          3.125,
          3.125,
          2.6875,
          2.9375,
          1.5,
          2.75,
          3.1875,
          1.9375,
          3.1875,
          1.75,
          2.0625,
          2.375,
          2.9375,
          2.875,
          3.125,
          3.375,
          2.875,
          2.8125,
          3.125,
          2.75,
          2.875,
          2.625,
          2.375,
          1.6875,
          2.6875,
          2.4375,
          2.4375,
          2.75,
          2.0625,
          3.375,
          2.3125,
          3.0625,
          3.0625,
          2.1875,
          3.0625,
          2.8125,
          2.3125,
          2.75,
          2.5625,
          2.3125,
          3.0625,
          2.875,
          2.5625,
          2.1875,
          2.4375,
          2.4375,
          2.1875,
          3.1875,
          2.5,
          2.3125,
          2.625,
          2.375,
          2.25,
          2.5625,
          3.25,
          2.125,
          2.5625,
          2.8125,
          2.4375,
          2.9375,
          2.4375,
          2.3125,
          2.5625,
          2.3125,
          2.25,
          2.1875,
          2.625,
          2.4375,
          2.3125,
          2.6875,
          2.5,
          2.375,
          2.0625,
          2.3125,
          2.4375,
          1.8125,
          2.5625,
          2.625,
          2.125,
          2.375,
          3,
          2.9375,
          3.3125,
          2.125,
          2.625,
          2.1875,
          2.5625,
          2.625,
          1.875,
          2.1875,
          2.625,
          3.375,
          3,
          2.5,
          3.125,
          2.5625,
          2.5,
          2.5,
          2.4375,
          3.0625,
          2.625,
          2.1875,
          3.125,
          2.75,
          2.75,
          3.625,
          2.25,
          2.5625,
          2.3125,
          2.5,
          2.8125,
          2.5625,
          2.5,
          1.9375,
          2.6875,
          2.9375,
          2.9375,
          2.75,
          3,
          2.3125,
          2.5625,
          2.5625,
          2.625,
          2.6875,
          2.375,
          2.8125,
          3.25,
          2.25,
          2.3125,
          2.75,
          2.0625,
          2.625,
          2.1875,
          2.6875,
          2.5,
          2.5,
          2.0625,
          2.625,
          2.625,
          2.75,
          2.4375,
          2.625,
          2.3125,
          2.75,
          2.625,
          2.3125,
          2.6875,
          2.5625,
          2.6875,
          2.6875,
          2.8125,
          1.875,
          2.3125,
          2.375,
          2.5,
          2.75,
          2.5,
          2.5625,
          3,
          2.625,
          2.375,
          2.375,
          2.6875,
          2.8125,
          2.6875,
          2.4375,
          2.3125,
          2.375,
          2.9375,
          2.875,
          2.875,
          2.3125,
          2.875,
          2.25,
          2.4375,
          2.8125,
          2.375,
          2.125,
          2.3125,
          2.3125,
          2.625,
          2.75,
          2.4375,
          2.5,
          2.6875,
          2.5625,
          2.375,
          2.9375,
          2.8125,
          2.625,
          2.6875,
          2.75,
          2.1875,
          2.9375,
          1.9375,
          2.375,
          1.75,
          2.125,
          2.5,
          2.25,
          1.75,
          2,
          2.4375,
          2.5,
          2.3125,
          2.0625,
          2.8125,
          2.625,
          2.8125,
          3,
          3.3125,
          2.8125,
          2.5,
          2.9375,
          2.6875,
          2.4375,
          2.75,
          2.9375,
          2.9375,
          2.8125,
          2.5,
          2.625,
          2.8125,
          2.1875,
          2.3125,
          2.5,
          2.5625,
          2.5625,
          2.625,
          2.1875,
          2.5625,
          2.625,
          2.5625,
          2.5,
          2.4375,
          3.0625,
          2.9375,
          2.1875,
          2.3125,
          2.875,
          2.375,
          2.5,
          2.5,
          2.4375,
          2.75,
          2.25,
          3.0625,
          2.75,
          2.0625,
          2,
          2.1875,
          2.875,
          2.4375,
          2.5,
          2.75,
          2.75,
          2.5625,
          3.1875,
          2.25,
          2.75,
          2.75,
          2.5625,
          2.25,
          2.125,
          2.875,
          2.9375,
          2.8125,
          1.75,
          2.75,
          2.0625,
          2.4375,
          2.75,
          2.625,
          2.9375,
          2.9375,
          2.3125,
          2.5625,
          2.125,
          2.5625,
          2.125,
          2.375,
          2.25,
          2.5,
          2.75,
          2.4375,
          2.125,
          2.1875,
          2.625,
          2.1875,
          2.5,
          2.5,
          2.8125,
          2.5,
          2.6875,
          2.625,
          2.625,
          2.25,
          2.1875,
          2.25,
          2,
          2.3125,
          2.1875,
          2.5625,
          2.9375,
          2.375,
          2.75,
          2.1875,
          2.4375,
          2.3125,
          2.625,
          2.6875,
          1.6875,
          2.625,
          2.625,
          2.125,
          2.25,
          2.875,
          3.125,
          2.6875,
          2.8125,
          2.5,
          3.125,
          2.5625,
          2.4375,
          3.25,
          2.3125,
          2.75,
          2.625,
          2.125,
          2.4375,
          2.3125,
          3.0625,
          2.8125,
          1.875,
          2.5625,
          2.9375,
          2.5625,
          2.625,
          2.5,
          2.6875,
          2.625,
          2.875,
          2.875,
          2.4375,
          2.875,
          2.6875,
          2.1875,
          2.6875,
          2.1875,
          3.0625,
          2.125,
          2.3125,
          2.5625,
          2.75,
          1.75,
          2.125,
          2,
          2.3125,
          2.1875,
          3,
          1.8125,
          2.1875,
          2.625,
          2.6875,
          2.375,
          2.25,
          2.8125,
          1.6875,
          2.625,
          2.5625,
          2.1875,
          2.5625,
          1.875,
          2.25,
          2.375,
          2.5,
          2.6875,
          2.875,
          2.8125,
          2.8125,
          2.0625,
          2.1875,
          1.6875,
          2,
          2.25,
          2.5,
          2.625,
          2.6875,
          2.0625,
          2.1875,
          2.5625,
          1.875,
          2.25,
          2.3125,
          2.75,
          2.25,
          2.4375,
          2.25,
          2.5,
          3.3125,
          2,
          2.8125,
          1.6875,
          2.25,
          2.6875,
          3.0625,
          2.4375,
          2.5625,
          2.9375,
          2.4375,
          2.75,
          2.1875,
          2.5,
          2.875,
          2.5625,
          2.1875,
          2.4375,
          2.625,
          2.4375,
          2.75,
          2.5625,
          2.375,
          2,
          2.25,
          1.75,
          2.6875,
          2.125,
          2.375,
          2.1875,
          1.6875,
          2.5625,
          2.125,
          2.4375,
          2.8125,
          1.5625,
          2.625,
          3.3125,
          2.75,
          2.4375,
          2.3125,
          2.25,
          2.75,
          2.6875,
          2.875,
          2.375,
          2.25,
          2.5625,
          2.125,
          2.75,
          3.3125,
          2.8125,
          2.1875,
          2.625,
          3.125,
          2.4375,
          2.5625,
          2.5625,
          2.3125,
          2.125,
          2.5625,
          2.75,
          2.5,
          2.6875,
          2.9375,
          2.6875,
          2.875,
          1.9375,
          2.6875,
          2.4375,
          2.9375,
          2,
          2.5,
          2.8125,
          1.9375,
          2.4375,
          2.4375,
          2.625,
          2.0625,
          2.5,
          2.4375,
          2,
          2.375,
          1.4375,
          2.1875,
          2.3125,
          3.0625,
          2.875,
          3.1875,
          2.5,
          2.625,
          3.0625,
          2.75,
          2.8125,
          3.1875,
          2.5,
          2.25,
          2.3125,
          2.3125,
          2.5,
          2.125,
          2.75,
          2.75,
          1.375,
          1.875,
          2.5,
          2.1875,
          2.3125,
          3.125,
          2.625,
          3.125,
          2.8125,
          2,
          2.375,
          2.5625,
          1.8125,
          2.125,
          2.375,
          2.625,
          2.25,
          2.5,
          3,
          3.125,
          2.625,
          2.5,
          2.75,
          2.0625,
          2.5,
          2.4375,
          3.125,
          3.1875,
          2.875,
          2.5,
          2.625,
          2.6875,
          2.875,
          2.8125,
          2.8125,
          1.75,
          2.5,
          3.0625,
          3.3125,
          2.75,
          2.3125,
          2,
          2.1875,
          2.5625,
          2.9375,
          2.25,
          2.5625,
          2.3125,
          3.125,
          2.4375,
          2.625,
          2.6875,
          2.4375,
          2.6875,
          2.1875,
          2.75,
          2.625,
          3.1875,
          2.1875,
          2.375,
          2.125,
          2.5625,
          3.125,
          2.1875,
          2.4375,
          2.875,
          2.1875,
          2.1875,
          2.75,
          1.9375,
          3.1875,
          2.875,
          2.25,
          3.25,
          2.625,
          2.125,
          2.6875,
          2.375,
          3,
          2.625,
          1.625,
          2.9375,
          1.9375,
          2,
          2.25,
          2.1875,
          2.75,
          2.625,
          2.9375,
          2.9375,
          2.6875,
          2.4375,
          2.375,
          2.9375,
          2,
          2.6875,
          2.4375,
          2.0625,
          2.4375,
          2.0625,
          2.25,
          2.3125,
          2.5625,
          2.1875,
          2.4375,
          2.625,
          2.375,
          2.75,
          2.25,
          2.5625,
          2.5625,
          2.9375,
          2.0625,
          2.375,
          2.4375,
          2.3125,
          3.125,
          2.6875,
          2.75,
          2.75,
          2.0625,
          2.875,
          2.3125,
          2.375,
          2.125,
          2,
          3,
          2.8125,
          2.8125,
          2.1875,
          2.75,
          2.125,
          2.1875,
          2.875,
          2.75,
          2.625,
          3.125,
          2.125,
          2.6875,
          2.375,
          2.75,
          2.25,
          3,
          2.75,
          2.9375,
          2.875,
          2.625,
          2.0625,
          1.875,
          2.375,
          2.5625,
          2.625,
          2.8125,
          2.6875,
          2.375,
          2.5625,
          2.5625,
          2.1875,
          2.625,
          2.375,
          1.75,
          2.0625,
          1.625,
          2.0625,
          2.25,
          2.5625,
          2.25,
          2.5,
          2.5,
          2.25,
          2.9375,
          2,
          2.9375,
          2.25,
          2.5625,
          2.5625,
          2.5,
          2.4375,
          2.9375,
          2.4375,
          2.125,
          2.6875,
          2.5625,
          2.9375,
          2.875,
          3,
          1.6875,
          2,
          1.75,
          2.4375,
          2.5625,
          2.875,
          2.75,
          2.1875,
          2.25,
          2.5,
          3.125,
          2.625,
          2.8125,
          3,
          2.3125,
          2.75,
          2.5,
          2.25,
          2.5625,
          2.6875,
          1.9375,
          2.25,
          2.3125,
          2.4375,
          2.6875,
          3.125,
          1.8125,
          2.6875,
          2.125,
          2.125,
          2.5625,
          3
         ],
         "y0": " ",
         "yaxis": "y"
        },
        {
         "marker": {
          "color": "#19D3F3",
          "size": 10
         },
         "mode": "markers",
         "name": "Participant 1",
         "type": "scatter",
         "x": [
          "h",
          "e",
          "x",
          "a",
          "c",
          "o"
         ],
         "y": [
          3.1,
          2.9,
          2.5,
          3.6,
          3.1,
          2.5
         ]
        },
        {
         "marker": {
          "color": "#FECB52",
          "size": 10
         },
         "mode": "markers",
         "name": "Participant 2",
         "type": "scatter",
         "x": [
          "h",
          "e",
          "x",
          "a",
          "c",
          "o"
         ],
         "y": [
          3.6,
          2.7,
          3.1,
          2.6,
          3.2,
          3.1
         ]
        }
       ],
       "layout": {
        "boxmode": "group",
        "legend": {
         "tracegroupgap": 0
        },
        "margin": {
         "t": 60
        },
        "template": {
         "data": {
          "bar": [
           {
            "error_x": {
             "color": "#2a3f5f"
            },
            "error_y": {
             "color": "#2a3f5f"
            },
            "marker": {
             "line": {
              "color": "#E5ECF6",
              "width": 0.5
             },
             "pattern": {
              "fillmode": "overlay",
              "size": 10,
              "solidity": 0.2
             }
            },
            "type": "bar"
           }
          ],
          "barpolar": [
           {
            "marker": {
             "line": {
              "color": "#E5ECF6",
              "width": 0.5
             },
             "pattern": {
              "fillmode": "overlay",
              "size": 10,
              "solidity": 0.2
             }
            },
            "type": "barpolar"
           }
          ],
          "carpet": [
           {
            "aaxis": {
             "endlinecolor": "#2a3f5f",
             "gridcolor": "white",
             "linecolor": "white",
             "minorgridcolor": "white",
             "startlinecolor": "#2a3f5f"
            },
            "baxis": {
             "endlinecolor": "#2a3f5f",
             "gridcolor": "white",
             "linecolor": "white",
             "minorgridcolor": "white",
             "startlinecolor": "#2a3f5f"
            },
            "type": "carpet"
           }
          ],
          "choropleth": [
           {
            "colorbar": {
             "outlinewidth": 0,
             "ticks": ""
            },
            "type": "choropleth"
           }
          ],
          "contour": [
           {
            "colorbar": {
             "outlinewidth": 0,
             "ticks": ""
            },
            "colorscale": [
             [
              0,
              "#0d0887"
             ],
             [
              0.1111111111111111,
              "#46039f"
             ],
             [
              0.2222222222222222,
              "#7201a8"
             ],
             [
              0.3333333333333333,
              "#9c179e"
             ],
             [
              0.4444444444444444,
              "#bd3786"
             ],
             [
              0.5555555555555556,
              "#d8576b"
             ],
             [
              0.6666666666666666,
              "#ed7953"
             ],
             [
              0.7777777777777778,
              "#fb9f3a"
             ],
             [
              0.8888888888888888,
              "#fdca26"
             ],
             [
              1,
              "#f0f921"
             ]
            ],
            "type": "contour"
           }
          ],
          "contourcarpet": [
           {
            "colorbar": {
             "outlinewidth": 0,
             "ticks": ""
            },
            "type": "contourcarpet"
           }
          ],
          "heatmap": [
           {
            "colorbar": {
             "outlinewidth": 0,
             "ticks": ""
            },
            "colorscale": [
             [
              0,
              "#0d0887"
             ],
             [
              0.1111111111111111,
              "#46039f"
             ],
             [
              0.2222222222222222,
              "#7201a8"
             ],
             [
              0.3333333333333333,
              "#9c179e"
             ],
             [
              0.4444444444444444,
              "#bd3786"
             ],
             [
              0.5555555555555556,
              "#d8576b"
             ],
             [
              0.6666666666666666,
              "#ed7953"
             ],
             [
              0.7777777777777778,
              "#fb9f3a"
             ],
             [
              0.8888888888888888,
              "#fdca26"
             ],
             [
              1,
              "#f0f921"
             ]
            ],
            "type": "heatmap"
           }
          ],
          "heatmapgl": [
           {
            "colorbar": {
             "outlinewidth": 0,
             "ticks": ""
            },
            "colorscale": [
             [
              0,
              "#0d0887"
             ],
             [
              0.1111111111111111,
              "#46039f"
             ],
             [
              0.2222222222222222,
              "#7201a8"
             ],
             [
              0.3333333333333333,
              "#9c179e"
             ],
             [
              0.4444444444444444,
              "#bd3786"
             ],
             [
              0.5555555555555556,
              "#d8576b"
             ],
             [
              0.6666666666666666,
              "#ed7953"
             ],
             [
              0.7777777777777778,
              "#fb9f3a"
             ],
             [
              0.8888888888888888,
              "#fdca26"
             ],
             [
              1,
              "#f0f921"
             ]
            ],
            "type": "heatmapgl"
           }
          ],
          "histogram": [
           {
            "marker": {
             "pattern": {
              "fillmode": "overlay",
              "size": 10,
              "solidity": 0.2
             }
            },
            "type": "histogram"
           }
          ],
          "histogram2d": [
           {
            "colorbar": {
             "outlinewidth": 0,
             "ticks": ""
            },
            "colorscale": [
             [
              0,
              "#0d0887"
             ],
             [
              0.1111111111111111,
              "#46039f"
             ],
             [
              0.2222222222222222,
              "#7201a8"
             ],
             [
              0.3333333333333333,
              "#9c179e"
             ],
             [
              0.4444444444444444,
              "#bd3786"
             ],
             [
              0.5555555555555556,
              "#d8576b"
             ],
             [
              0.6666666666666666,
              "#ed7953"
             ],
             [
              0.7777777777777778,
              "#fb9f3a"
             ],
             [
              0.8888888888888888,
              "#fdca26"
             ],
             [
              1,
              "#f0f921"
             ]
            ],
            "type": "histogram2d"
           }
          ],
          "histogram2dcontour": [
           {
            "colorbar": {
             "outlinewidth": 0,
             "ticks": ""
            },
            "colorscale": [
             [
              0,
              "#0d0887"
             ],
             [
              0.1111111111111111,
              "#46039f"
             ],
             [
              0.2222222222222222,
              "#7201a8"
             ],
             [
              0.3333333333333333,
              "#9c179e"
             ],
             [
              0.4444444444444444,
              "#bd3786"
             ],
             [
              0.5555555555555556,
              "#d8576b"
             ],
             [
              0.6666666666666666,
              "#ed7953"
             ],
             [
              0.7777777777777778,
              "#fb9f3a"
             ],
             [
              0.8888888888888888,
              "#fdca26"
             ],
             [
              1,
              "#f0f921"
             ]
            ],
            "type": "histogram2dcontour"
           }
          ],
          "mesh3d": [
           {
            "colorbar": {
             "outlinewidth": 0,
             "ticks": ""
            },
            "type": "mesh3d"
           }
          ],
          "parcoords": [
           {
            "line": {
             "colorbar": {
              "outlinewidth": 0,
              "ticks": ""
             }
            },
            "type": "parcoords"
           }
          ],
          "pie": [
           {
            "automargin": true,
            "type": "pie"
           }
          ],
          "scatter": [
           {
            "fillpattern": {
             "fillmode": "overlay",
             "size": 10,
             "solidity": 0.2
            },
            "type": "scatter"
           }
          ],
          "scatter3d": [
           {
            "line": {
             "colorbar": {
              "outlinewidth": 0,
              "ticks": ""
             }
            },
            "marker": {
             "colorbar": {
              "outlinewidth": 0,
              "ticks": ""
             }
            },
            "type": "scatter3d"
           }
          ],
          "scattercarpet": [
           {
            "marker": {
             "colorbar": {
              "outlinewidth": 0,
              "ticks": ""
             }
            },
            "type": "scattercarpet"
           }
          ],
          "scattergeo": [
           {
            "marker": {
             "colorbar": {
              "outlinewidth": 0,
              "ticks": ""
             }
            },
            "type": "scattergeo"
           }
          ],
          "scattergl": [
           {
            "marker": {
             "colorbar": {
              "outlinewidth": 0,
              "ticks": ""
             }
            },
            "type": "scattergl"
           }
          ],
          "scattermapbox": [
           {
            "marker": {
             "colorbar": {
              "outlinewidth": 0,
              "ticks": ""
             }
            },
            "type": "scattermapbox"
           }
          ],
          "scatterpolar": [
           {
            "marker": {
             "colorbar": {
              "outlinewidth": 0,
              "ticks": ""
             }
            },
            "type": "scatterpolar"
           }
          ],
          "scatterpolargl": [
           {
            "marker": {
             "colorbar": {
              "outlinewidth": 0,
              "ticks": ""
             }
            },
            "type": "scatterpolargl"
           }
          ],
          "scatterternary": [
           {
            "marker": {
             "colorbar": {
              "outlinewidth": 0,
              "ticks": ""
             }
            },
            "type": "scatterternary"
           }
          ],
          "surface": [
           {
            "colorbar": {
             "outlinewidth": 0,
             "ticks": ""
            },
            "colorscale": [
             [
              0,
              "#0d0887"
             ],
             [
              0.1111111111111111,
              "#46039f"
             ],
             [
              0.2222222222222222,
              "#7201a8"
             ],
             [
              0.3333333333333333,
              "#9c179e"
             ],
             [
              0.4444444444444444,
              "#bd3786"
             ],
             [
              0.5555555555555556,
              "#d8576b"
             ],
             [
              0.6666666666666666,
              "#ed7953"
             ],
             [
              0.7777777777777778,
              "#fb9f3a"
             ],
             [
              0.8888888888888888,
              "#fdca26"
             ],
             [
              1,
              "#f0f921"
             ]
            ],
            "type": "surface"
           }
          ],
          "table": [
           {
            "cells": {
             "fill": {
              "color": "#EBF0F8"
             },
             "line": {
              "color": "white"
             }
            },
            "header": {
             "fill": {
              "color": "#C8D4E3"
             },
             "line": {
              "color": "white"
             }
            },
            "type": "table"
           }
          ]
         },
         "layout": {
          "annotationdefaults": {
           "arrowcolor": "#2a3f5f",
           "arrowhead": 0,
           "arrowwidth": 1
          },
          "autotypenumbers": "strict",
          "coloraxis": {
           "colorbar": {
            "outlinewidth": 0,
            "ticks": ""
           }
          },
          "colorscale": {
           "diverging": [
            [
             0,
             "#8e0152"
            ],
            [
             0.1,
             "#c51b7d"
            ],
            [
             0.2,
             "#de77ae"
            ],
            [
             0.3,
             "#f1b6da"
            ],
            [
             0.4,
             "#fde0ef"
            ],
            [
             0.5,
             "#f7f7f7"
            ],
            [
             0.6,
             "#e6f5d0"
            ],
            [
             0.7,
             "#b8e186"
            ],
            [
             0.8,
             "#7fbc41"
            ],
            [
             0.9,
             "#4d9221"
            ],
            [
             1,
             "#276419"
            ]
           ],
           "sequential": [
            [
             0,
             "#0d0887"
            ],
            [
             0.1111111111111111,
             "#46039f"
            ],
            [
             0.2222222222222222,
             "#7201a8"
            ],
            [
             0.3333333333333333,
             "#9c179e"
            ],
            [
             0.4444444444444444,
             "#bd3786"
            ],
            [
             0.5555555555555556,
             "#d8576b"
            ],
            [
             0.6666666666666666,
             "#ed7953"
            ],
            [
             0.7777777777777778,
             "#fb9f3a"
            ],
            [
             0.8888888888888888,
             "#fdca26"
            ],
            [
             1,
             "#f0f921"
            ]
           ],
           "sequentialminus": [
            [
             0,
             "#0d0887"
            ],
            [
             0.1111111111111111,
             "#46039f"
            ],
            [
             0.2222222222222222,
             "#7201a8"
            ],
            [
             0.3333333333333333,
             "#9c179e"
            ],
            [
             0.4444444444444444,
             "#bd3786"
            ],
            [
             0.5555555555555556,
             "#d8576b"
            ],
            [
             0.6666666666666666,
             "#ed7953"
            ],
            [
             0.7777777777777778,
             "#fb9f3a"
            ],
            [
             0.8888888888888888,
             "#fdca26"
            ],
            [
             1,
             "#f0f921"
            ]
           ]
          },
          "colorway": [
           "#636efa",
           "#EF553B",
           "#00cc96",
           "#ab63fa",
           "#FFA15A",
           "#19d3f3",
           "#FF6692",
           "#B6E880",
           "#FF97FF",
           "#FECB52"
          ],
          "font": {
           "color": "#2a3f5f"
          },
          "geo": {
           "bgcolor": "white",
           "lakecolor": "white",
           "landcolor": "#E5ECF6",
           "showlakes": true,
           "showland": true,
           "subunitcolor": "white"
          },
          "hoverlabel": {
           "align": "left"
          },
          "hovermode": "closest",
          "mapbox": {
           "style": "light"
          },
          "paper_bgcolor": "white",
          "plot_bgcolor": "#E5ECF6",
          "polar": {
           "angularaxis": {
            "gridcolor": "white",
            "linecolor": "white",
            "ticks": ""
           },
           "bgcolor": "#E5ECF6",
           "radialaxis": {
            "gridcolor": "white",
            "linecolor": "white",
            "ticks": ""
           }
          },
          "scene": {
           "xaxis": {
            "backgroundcolor": "#E5ECF6",
            "gridcolor": "white",
            "gridwidth": 2,
            "linecolor": "white",
            "showbackground": true,
            "ticks": "",
            "zerolinecolor": "white"
           },
           "yaxis": {
            "backgroundcolor": "#E5ECF6",
            "gridcolor": "white",
            "gridwidth": 2,
            "linecolor": "white",
            "showbackground": true,
            "ticks": "",
            "zerolinecolor": "white"
           },
           "zaxis": {
            "backgroundcolor": "#E5ECF6",
            "gridcolor": "white",
            "gridwidth": 2,
            "linecolor": "white",
            "showbackground": true,
            "ticks": "",
            "zerolinecolor": "white"
           }
          },
          "shapedefaults": {
           "line": {
            "color": "#2a3f5f"
           }
          },
          "ternary": {
           "aaxis": {
            "gridcolor": "white",
            "linecolor": "white",
            "ticks": ""
           },
           "baxis": {
            "gridcolor": "white",
            "linecolor": "white",
            "ticks": ""
           },
           "bgcolor": "#E5ECF6",
           "caxis": {
            "gridcolor": "white",
            "linecolor": "white",
            "ticks": ""
           }
          },
          "title": {
           "x": 0.05
          },
          "xaxis": {
           "automargin": true,
           "gridcolor": "white",
           "linecolor": "white",
           "ticks": "",
           "title": {
            "standoff": 15
           },
           "zerolinecolor": "white",
           "zerolinewidth": 2
          },
          "yaxis": {
           "automargin": true,
           "gridcolor": "white",
           "linecolor": "white",
           "ticks": "",
           "title": {
            "standoff": 15
           },
           "zerolinecolor": "white",
           "zerolinewidth": 2
          }
         }
        },
        "title": {
         "text": "HEXACO Trait Distribution (200 Participants)"
        },
        "xaxis": {
         "anchor": "y",
         "domain": [
          0,
          1
         ],
         "title": {
          "text": "Trait"
         }
        },
        "yaxis": {
         "anchor": "x",
         "domain": [
          0,
          1
         ],
         "title": {
          "text": "Trait value"
         }
        }
       }
      }
     },
     "metadata": {},
     "output_type": "display_data"
    }
   ],
   "source": [
    "# using df create a box plot with plotly for each HEXACO trait\n",
    "fig = px.box(df, y=['h', 'e', 'x', 'a', 'c', 'o'])\n",
    "fig.update_layout(\n",
    "    xaxis_title='Trait',\n",
    "    yaxis_title='Trait value',\n",
    "    title=f'HEXACO Trait Distribution ({len(df)} Participants)'\n",
    ")\n",
    "\n",
    "# Add dots at each trait using prt_values\n",
    "prt_values = [\n",
    "    [ 3.1, 2.9, 2.5, 3.6, 3.1, 2.5], # participant 1\n",
    "    [ 3.6, 2.7, 3.1, 2.6, 3.2, 3.1], # participant 2\n",
    "]\n",
    "\n",
    "colors_used = []\n",
    "for i, my_values in enumerate(prt_values):\n",
    "    color = random.choice(px.colors.qualitative.Plotly)\n",
    "    while color in colors_used:\n",
    "        color = random.choice(px.colors.qualitative.Plotly)\n",
    "\n",
    "    fig.add_trace(go.Scatter(\n",
    "        x=['h', 'e', 'x', 'a', 'c', 'o'],\n",
    "        y=my_values,\n",
    "        mode='markers',\n",
    "        marker=dict(color=color, size=10),\n",
    "        name=f'Participant {i+1}'\n",
    "    ))\n",
    "\n",
    "fig.show()\n"
   ]
  },
  {
   "cell_type": "code",
   "execution_count": 8,
   "metadata": {},
   "outputs": [],
   "source": [
    "import warnings\n",
    "warnings.filterwarnings(\"ignore\", category=FutureWarning)"
   ]
  },
  {
   "cell_type": "code",
   "execution_count": 9,
   "metadata": {},
   "outputs": [
    {
     "data": {
      "application/vnd.plotly.v1+json": {
       "config": {
        "plotlyServerURL": "https://plot.ly"
       },
       "data": [
        {
         "alignmentgroup": "True",
         "bingroup": "x",
         "hovertemplate": "variable=h<br>value=%{x}<br>count=%{y}<extra></extra>",
         "legendgroup": "h",
         "marker": {
          "color": "#636efa",
          "pattern": {
           "shape": ""
          }
         },
         "name": "h",
         "nbinsx": 30,
         "offsetgroup": "h",
         "orientation": "v",
         "showlegend": true,
         "type": "histogram",
         "x": [
          2.6875,
          2.25,
          2.6875,
          2.875,
          1.8125,
          2.5,
          2,
          2.1875,
          2.1875,
          2.3125,
          2.0625,
          2.9375,
          2.875,
          3.125,
          2.75,
          2.1875,
          1.9375,
          2.8125,
          2.3125,
          2.3125,
          2.3125,
          2.0625,
          2.75,
          2.3125,
          2.125,
          2.3125,
          2.5,
          1.8125,
          2.125,
          3,
          2.25,
          3.125,
          2.0625,
          2.375,
          2.4375,
          1.9375,
          2.5,
          2.125,
          3,
          2.3125,
          2.375,
          1.8125,
          2.375,
          2.375,
          2.5625,
          2,
          2.125,
          2.4375,
          2.3125,
          1.875,
          1.8125,
          3,
          2.1875,
          2.625,
          2.0625,
          2.25,
          2.75,
          2.9375,
          2.5625,
          1.875,
          2,
          1.9375,
          2.375,
          2.1875,
          2.3125,
          2.3125,
          2.8125,
          2.3125,
          2.75,
          2.8125,
          2.9375,
          2.6875,
          2.8125,
          2.75,
          2.625,
          2.6875,
          2,
          2.625,
          2.375,
          2.0625,
          2.25,
          2.9375,
          2.125,
          2.625,
          2,
          2.4375,
          2.8125,
          2.5,
          2.75,
          2,
          2.25,
          2.25,
          2.25,
          2.625,
          2.5,
          2.5,
          2.5,
          2.1875,
          2.9375,
          2.375,
          2.6875,
          2.8125,
          2.25,
          2.8125,
          2.25,
          1.6875,
          2,
          2.625,
          2.0625,
          1.875,
          1.75,
          2.125,
          2.75,
          1.75,
          2.0625,
          2.25,
          1.875,
          2.375,
          2.4375,
          1.9375,
          3.0625,
          3.125,
          1.5,
          2.125,
          2.5625,
          2.5625,
          2.8125,
          1.9375,
          2.8125,
          2.4375,
          2.125,
          2.3125,
          2.3125,
          2.25,
          2,
          2,
          2.25,
          2.3125,
          2.375,
          3.125,
          2.1875,
          2.375,
          2.75,
          2.6875,
          2.125,
          2.75,
          2.125,
          2.125,
          2.1875,
          2.3125,
          2.625,
          2.0625,
          2.625,
          2,
          2,
          2.3125,
          1.9375,
          1.9375,
          2.875,
          2.6875,
          3.25,
          1.9375,
          2,
          2.5625,
          2.5625,
          2.625,
          2,
          2.9375,
          2.3125,
          2.1875,
          2.25,
          2.25,
          2.4375,
          1.8125,
          1.75,
          2.8125,
          2.75,
          2.3125,
          2.1875,
          2,
          2.0625,
          2.5625,
          2.1875,
          2.4375,
          2.3125,
          2.0625,
          2.5625,
          2.25,
          2.4375,
          2.3125,
          2,
          2.3125,
          1.875,
          2.5625,
          2.3125,
          2.25,
          3,
          2.5,
          2.9375,
          2.8125
         ],
         "xaxis": "x5",
         "yaxis": "y5"
        },
        {
         "alignmentgroup": "True",
         "bingroup": "x",
         "hovertemplate": "variable=e<br>value=%{x}<br>count=%{y}<extra></extra>",
         "legendgroup": "e",
         "marker": {
          "color": "#EF553B",
          "pattern": {
           "shape": ""
          }
         },
         "name": "e",
         "nbinsx": 30,
         "offsetgroup": "e",
         "orientation": "v",
         "showlegend": true,
         "type": "histogram",
         "x": [
          2.6875,
          2.5,
          1.875,
          3.0625,
          2.5625,
          2.0625,
          2.125,
          2.6875,
          2.5625,
          2.5,
          2.9375,
          2.5,
          2.75,
          1.875,
          2.25,
          2.9375,
          2.4375,
          2.875,
          2.1875,
          2.25,
          3.0625,
          2.5,
          2,
          2.0625,
          2.0625,
          2.625,
          2.6875,
          2.3125,
          2.5625,
          2.9375,
          2.25,
          2.375,
          2.5625,
          2.875,
          2.9375,
          3,
          2.375,
          3,
          2.125,
          2.6875,
          2.5625,
          2.9375,
          2,
          2.4375,
          2.75,
          2.1875,
          2.5625,
          2.4375,
          1.9375,
          2.5625,
          2.5,
          2.625,
          3.0625,
          2.5,
          2.4375,
          2.4375,
          2.375,
          2.8125,
          2.1875,
          2.75,
          2.8125,
          3.1875,
          2.8125,
          2.3125,
          2.625,
          2.3125,
          2.375,
          3.125,
          2.875,
          2.5,
          2.9375,
          2.1875,
          2.125,
          3.0625,
          3.3125,
          1.9375,
          2.4375,
          2.5,
          2.5625,
          2.6875,
          2.125,
          2.125,
          2.625,
          2.8125,
          2.4375,
          2.8125,
          2.8125,
          2.9375,
          2.8125,
          2,
          2.8125,
          2.875,
          2,
          3.125,
          2.0625,
          2.375,
          2,
          2.5,
          1.8125,
          2.75,
          2.125,
          2.6875,
          2.3125,
          2.5,
          2.875,
          3,
          3,
          2.25,
          2.5625,
          2.125,
          3,
          2.625,
          2.4375,
          2.6875,
          2.5,
          2.5625,
          2.5,
          2.375,
          2.375,
          2.75,
          2.5625,
          2.8125,
          1.75,
          3,
          1.75,
          2.75,
          2.75,
          2.875,
          2.75,
          2.5,
          2.625,
          2.8125,
          2.375,
          2.1875,
          2.9375,
          2.3125,
          2.125,
          2.5,
          1.9375,
          2.6875,
          2.5,
          2.1875,
          2.4375,
          3.1875,
          2.5,
          2.0625,
          2,
          2.8125,
          2.0625,
          2.875,
          3.5625,
          2.8125,
          2.25,
          2.25,
          2.875,
          2.5625,
          2.75,
          2.75,
          2.625,
          2.5625,
          3.3125,
          2.1875,
          2.25,
          3.125,
          2.5,
          2.375,
          2.5,
          2.6875,
          3.3125,
          2,
          2.5,
          2.625,
          1.9375,
          2.25,
          1.9375,
          2,
          2.4375,
          2.6875,
          3.0625,
          2.25,
          2.375,
          2.4375,
          2.625,
          1.8125,
          2.6875,
          2.1875,
          2.5625,
          2.4375,
          2.8125,
          3,
          2.75,
          2.1875,
          2.9375,
          2.1875,
          2.375,
          2.8125,
          2.75,
          2.125,
          2.5,
          2.5625
         ],
         "xaxis": "x6",
         "yaxis": "y6"
        },
        {
         "alignmentgroup": "True",
         "bingroup": "x",
         "hovertemplate": "variable=x<br>value=%{x}<br>count=%{y}<extra></extra>",
         "legendgroup": "x",
         "marker": {
          "color": "#00cc96",
          "pattern": {
           "shape": ""
          }
         },
         "name": "x",
         "nbinsx": 30,
         "offsetgroup": "x",
         "orientation": "v",
         "showlegend": true,
         "type": "histogram",
         "x": [
          3.3125,
          2.125,
          2.8125,
          1.875,
          2.25,
          2.4375,
          2.5,
          2,
          2.375,
          2.375,
          2.875,
          2.6875,
          2.8125,
          2.3125,
          2.5,
          2.5,
          2.1875,
          3.125,
          2.6875,
          2.875,
          2.3125,
          2.375,
          2.4375,
          2.4375,
          2.75,
          2.875,
          2.375,
          2.625,
          2.75,
          2.1875,
          2.875,
          2.4375,
          3.0625,
          2.75,
          2.6875,
          2.1875,
          1.9375,
          2.625,
          2.375,
          2.4375,
          2.4375,
          2.0625,
          2.375,
          2.8125,
          2.9375,
          2.75,
          2.25,
          2.5625,
          2.625,
          1.75,
          3,
          2,
          2.125,
          2.625,
          3,
          2.125,
          2.5,
          2.8125,
          2.6875,
          2.8125,
          2.75,
          2.5625,
          2.3125,
          2.125,
          2.375,
          2.625,
          2.625,
          2.625,
          2.4375,
          3,
          2,
          2.1875,
          2.625,
          2.375,
          2.4375,
          2.5625,
          2.6875,
          2.8125,
          2.5625,
          2.25,
          3.125,
          3.125,
          2.6875,
          2.9375,
          1.5,
          2.75,
          3.1875,
          1.9375,
          3.1875,
          1.75,
          2.0625,
          2.375,
          2.9375,
          2.875,
          3.125,
          3.375,
          2.875,
          2.8125,
          3.125,
          2.75,
          2.875,
          2.625,
          2.375,
          1.6875,
          2.6875,
          2.4375,
          2.4375,
          2.75,
          2.0625,
          3.375,
          2.3125,
          3.0625,
          3.0625,
          2.1875,
          3.0625,
          2.8125,
          2.3125,
          2.75,
          2.5625,
          2.3125,
          3.0625,
          2.875,
          2.5625,
          2.1875,
          2.4375,
          2.4375,
          2.1875,
          3.1875,
          2.5,
          2.3125,
          2.625,
          2.375,
          2.25,
          2.5625,
          3.25,
          2.125,
          2.5625,
          2.8125,
          2.4375,
          2.9375,
          2.4375,
          2.3125,
          2.5625,
          2.3125,
          2.25,
          2.1875,
          2.625,
          2.4375,
          2.3125,
          2.6875,
          2.5,
          2.375,
          2.0625,
          2.3125,
          2.4375,
          1.8125,
          2.5625,
          2.625,
          2.125,
          2.375,
          3,
          2.9375,
          3.3125,
          2.125,
          2.625,
          2.1875,
          2.5625,
          2.625,
          1.875,
          2.1875,
          2.625,
          3.375,
          3,
          2.5,
          3.125,
          2.5625,
          2.5,
          2.5,
          2.4375,
          3.0625,
          2.625,
          2.1875,
          3.125,
          2.75,
          2.75,
          3.625,
          2.25,
          2.5625,
          2.3125,
          2.5,
          2.8125,
          2.5625,
          2.5,
          1.9375,
          2.6875,
          2.9375,
          2.9375,
          2.75,
          3,
          2.3125
         ],
         "xaxis": "x3",
         "yaxis": "y3"
        },
        {
         "alignmentgroup": "True",
         "bingroup": "x",
         "hovertemplate": "variable=a<br>value=%{x}<br>count=%{y}<extra></extra>",
         "legendgroup": "a",
         "marker": {
          "color": "#ab63fa",
          "pattern": {
           "shape": ""
          }
         },
         "name": "a",
         "nbinsx": 30,
         "offsetgroup": "a",
         "orientation": "v",
         "showlegend": true,
         "type": "histogram",
         "x": [
          2.5625,
          2.5625,
          2.625,
          2.6875,
          2.375,
          2.8125,
          3.25,
          2.25,
          2.3125,
          2.75,
          2.0625,
          2.625,
          2.1875,
          2.6875,
          2.5,
          2.5,
          2.0625,
          2.625,
          2.625,
          2.75,
          2.4375,
          2.625,
          2.3125,
          2.75,
          2.625,
          2.3125,
          2.6875,
          2.5625,
          2.6875,
          2.6875,
          2.8125,
          1.875,
          2.3125,
          2.375,
          2.5,
          2.75,
          2.5,
          2.5625,
          3,
          2.625,
          2.375,
          2.375,
          2.6875,
          2.8125,
          2.6875,
          2.4375,
          2.3125,
          2.375,
          2.9375,
          2.875,
          2.875,
          2.3125,
          2.875,
          2.25,
          2.4375,
          2.8125,
          2.375,
          2.125,
          2.3125,
          2.3125,
          2.625,
          2.75,
          2.4375,
          2.5,
          2.6875,
          2.5625,
          2.375,
          2.9375,
          2.8125,
          2.625,
          2.6875,
          2.75,
          2.1875,
          2.9375,
          1.9375,
          2.375,
          1.75,
          2.125,
          2.5,
          2.25,
          1.75,
          2,
          2.4375,
          2.5,
          2.3125,
          2.0625,
          2.8125,
          2.625,
          2.8125,
          3,
          3.3125,
          2.8125,
          2.5,
          2.9375,
          2.6875,
          2.4375,
          2.75,
          2.9375,
          2.9375,
          2.8125,
          2.5,
          2.625,
          2.8125,
          2.1875,
          2.3125,
          2.5,
          2.5625,
          2.5625,
          2.625,
          2.1875,
          2.5625,
          2.625,
          2.5625,
          2.5,
          2.4375,
          3.0625,
          2.9375,
          2.1875,
          2.3125,
          2.875,
          2.375,
          2.5,
          2.5,
          2.4375,
          2.75,
          2.25,
          3.0625,
          2.75,
          2.0625,
          2,
          2.1875,
          2.875,
          2.4375,
          2.5,
          2.75,
          2.75,
          2.5625,
          3.1875,
          2.25,
          2.75,
          2.75,
          2.5625,
          2.25,
          2.125,
          2.875,
          2.9375,
          2.8125,
          1.75,
          2.75,
          2.0625,
          2.4375,
          2.75,
          2.625,
          2.9375,
          2.9375,
          2.3125,
          2.5625,
          2.125,
          2.5625,
          2.125,
          2.375,
          2.25,
          2.5,
          2.75,
          2.4375,
          2.125,
          2.1875,
          2.625,
          2.1875,
          2.5,
          2.5,
          2.8125,
          2.5,
          2.6875,
          2.625,
          2.625,
          2.25,
          2.1875,
          2.25,
          2,
          2.3125,
          2.1875,
          2.5625,
          2.9375,
          2.375,
          2.75,
          2.1875,
          2.4375,
          2.3125,
          2.625,
          2.6875,
          1.6875,
          2.625,
          2.625,
          2.125,
          2.25,
          2.875,
          3.125,
          2.6875,
          2.8125
         ],
         "xaxis": "x4",
         "yaxis": "y4"
        },
        {
         "alignmentgroup": "True",
         "bingroup": "x",
         "hovertemplate": "variable=c<br>value=%{x}<br>count=%{y}<extra></extra>",
         "legendgroup": "c",
         "marker": {
          "color": "#FFA15A",
          "pattern": {
           "shape": ""
          }
         },
         "name": "c",
         "nbinsx": 30,
         "offsetgroup": "c",
         "orientation": "v",
         "showlegend": true,
         "type": "histogram",
         "x": [
          2.5,
          3.125,
          2.5625,
          2.4375,
          3.25,
          2.3125,
          2.75,
          2.625,
          2.125,
          2.4375,
          2.3125,
          3.0625,
          2.8125,
          1.875,
          2.5625,
          2.9375,
          2.5625,
          2.625,
          2.5,
          2.6875,
          2.625,
          2.875,
          2.875,
          2.4375,
          2.875,
          2.6875,
          2.1875,
          2.6875,
          2.1875,
          3.0625,
          2.125,
          2.3125,
          2.5625,
          2.75,
          1.75,
          2.125,
          2,
          2.3125,
          2.1875,
          3,
          1.8125,
          2.1875,
          2.625,
          2.6875,
          2.375,
          2.25,
          2.8125,
          1.6875,
          2.625,
          2.5625,
          2.1875,
          2.5625,
          1.875,
          2.25,
          2.375,
          2.5,
          2.6875,
          2.875,
          2.8125,
          2.8125,
          2.0625,
          2.1875,
          1.6875,
          2,
          2.25,
          2.5,
          2.625,
          2.6875,
          2.0625,
          2.1875,
          2.5625,
          1.875,
          2.25,
          2.3125,
          2.75,
          2.25,
          2.4375,
          2.25,
          2.5,
          3.3125,
          2,
          2.8125,
          1.6875,
          2.25,
          2.6875,
          3.0625,
          2.4375,
          2.5625,
          2.9375,
          2.4375,
          2.75,
          2.1875,
          2.5,
          2.875,
          2.5625,
          2.1875,
          2.4375,
          2.625,
          2.4375,
          2.75,
          2.5625,
          2.375,
          2,
          2.25,
          1.75,
          2.6875,
          2.125,
          2.375,
          2.1875,
          1.6875,
          2.5625,
          2.125,
          2.4375,
          2.8125,
          1.5625,
          2.625,
          3.3125,
          2.75,
          2.4375,
          2.3125,
          2.25,
          2.75,
          2.6875,
          2.875,
          2.375,
          2.25,
          2.5625,
          2.125,
          2.75,
          3.3125,
          2.8125,
          2.1875,
          2.625,
          3.125,
          2.4375,
          2.5625,
          2.5625,
          2.3125,
          2.125,
          2.5625,
          2.75,
          2.5,
          2.6875,
          2.9375,
          2.6875,
          2.875,
          1.9375,
          2.6875,
          2.4375,
          2.9375,
          2,
          2.5,
          2.8125,
          1.9375,
          2.4375,
          2.4375,
          2.625,
          2.0625,
          2.5,
          2.4375,
          2,
          2.375,
          1.4375,
          2.1875,
          2.3125,
          3.0625,
          2.875,
          3.1875,
          2.5,
          2.625,
          3.0625,
          2.75,
          2.8125,
          3.1875,
          2.5,
          2.25,
          2.3125,
          2.3125,
          2.5,
          2.125,
          2.75,
          2.75,
          1.375,
          1.875,
          2.5,
          2.1875,
          2.3125,
          3.125,
          2.625,
          3.125,
          2.8125,
          2,
          2.375,
          2.5625,
          1.8125,
          2.125,
          2.375,
          2.625,
          2.25,
          2.5
         ],
         "xaxis": "x",
         "yaxis": "y"
        },
        {
         "alignmentgroup": "True",
         "bingroup": "x",
         "hovertemplate": "variable=o<br>value=%{x}<br>count=%{y}<extra></extra>",
         "legendgroup": "o",
         "marker": {
          "color": "#19d3f3",
          "pattern": {
           "shape": ""
          }
         },
         "name": "o",
         "nbinsx": 30,
         "offsetgroup": "o",
         "orientation": "v",
         "showlegend": true,
         "type": "histogram",
         "x": [
          3,
          3.125,
          2.625,
          2.5,
          2.75,
          2.0625,
          2.5,
          2.4375,
          3.125,
          3.1875,
          2.875,
          2.5,
          2.625,
          2.6875,
          2.875,
          2.8125,
          2.8125,
          1.75,
          2.5,
          3.0625,
          3.3125,
          2.75,
          2.3125,
          2,
          2.1875,
          2.5625,
          2.9375,
          2.25,
          2.5625,
          2.3125,
          3.125,
          2.4375,
          2.625,
          2.6875,
          2.4375,
          2.6875,
          2.1875,
          2.75,
          2.625,
          3.1875,
          2.1875,
          2.375,
          2.125,
          2.5625,
          3.125,
          2.1875,
          2.4375,
          2.875,
          2.1875,
          2.1875,
          2.75,
          1.9375,
          3.1875,
          2.875,
          2.25,
          3.25,
          2.625,
          2.125,
          2.6875,
          2.375,
          3,
          2.625,
          1.625,
          2.9375,
          1.9375,
          2,
          2.25,
          2.1875,
          2.75,
          2.625,
          2.9375,
          2.9375,
          2.6875,
          2.4375,
          2.375,
          2.9375,
          2,
          2.6875,
          2.4375,
          2.0625,
          2.4375,
          2.0625,
          2.25,
          2.3125,
          2.5625,
          2.1875,
          2.4375,
          2.625,
          2.375,
          2.75,
          2.25,
          2.5625,
          2.5625,
          2.9375,
          2.0625,
          2.375,
          2.4375,
          2.3125,
          3.125,
          2.6875,
          2.75,
          2.75,
          2.0625,
          2.875,
          2.3125,
          2.375,
          2.125,
          2,
          3,
          2.8125,
          2.8125,
          2.1875,
          2.75,
          2.125,
          2.1875,
          2.875,
          2.75,
          2.625,
          3.125,
          2.125,
          2.6875,
          2.375,
          2.75,
          2.25,
          3,
          2.75,
          2.9375,
          2.875,
          2.625,
          2.0625,
          1.875,
          2.375,
          2.5625,
          2.625,
          2.8125,
          2.6875,
          2.375,
          2.5625,
          2.5625,
          2.1875,
          2.625,
          2.375,
          1.75,
          2.0625,
          1.625,
          2.0625,
          2.25,
          2.5625,
          2.25,
          2.5,
          2.5,
          2.25,
          2.9375,
          2,
          2.9375,
          2.25,
          2.5625,
          2.5625,
          2.5,
          2.4375,
          2.9375,
          2.4375,
          2.125,
          2.6875,
          2.5625,
          2.9375,
          2.875,
          3,
          1.6875,
          2,
          1.75,
          2.4375,
          2.5625,
          2.875,
          2.75,
          2.1875,
          2.25,
          2.5,
          3.125,
          2.625,
          2.8125,
          3,
          2.3125,
          2.75,
          2.5,
          2.25,
          2.5625,
          2.6875,
          1.9375,
          2.25,
          2.3125,
          2.4375,
          2.6875,
          3.125,
          1.8125,
          2.6875,
          2.125,
          2.125,
          2.5625,
          3
         ],
         "xaxis": "x2",
         "yaxis": "y2"
        }
       ],
       "layout": {
        "annotations": [
         {
          "font": {},
          "showarrow": false,
          "text": "variable=c",
          "x": 0.245,
          "xanchor": "center",
          "xref": "paper",
          "y": 0.2866666666666666,
          "yanchor": "bottom",
          "yref": "paper"
         },
         {
          "font": {},
          "showarrow": false,
          "text": "variable=o",
          "x": 0.755,
          "xanchor": "center",
          "xref": "paper",
          "y": 0.2866666666666666,
          "yanchor": "bottom",
          "yref": "paper"
         },
         {
          "font": {},
          "showarrow": false,
          "text": "variable=x",
          "x": 0.245,
          "xanchor": "center",
          "xref": "paper",
          "y": 0.6433333333333333,
          "yanchor": "bottom",
          "yref": "paper"
         },
         {
          "font": {},
          "showarrow": false,
          "text": "variable=a",
          "x": 0.755,
          "xanchor": "center",
          "xref": "paper",
          "y": 0.6433333333333333,
          "yanchor": "bottom",
          "yref": "paper"
         },
         {
          "font": {},
          "showarrow": false,
          "text": "variable=h",
          "x": 0.245,
          "xanchor": "center",
          "xref": "paper",
          "y": 0.9999999999999999,
          "yanchor": "bottom",
          "yref": "paper"
         },
         {
          "font": {},
          "showarrow": false,
          "text": "variable=e",
          "x": 0.755,
          "xanchor": "center",
          "xref": "paper",
          "y": 0.9999999999999999,
          "yanchor": "bottom",
          "yref": "paper"
         }
        ],
        "barmode": "relative",
        "height": 800,
        "legend": {
         "title": {
          "text": "variable"
         },
         "tracegroupgap": 0
        },
        "margin": {
         "t": 60
        },
        "template": {
         "data": {
          "bar": [
           {
            "error_x": {
             "color": "#2a3f5f"
            },
            "error_y": {
             "color": "#2a3f5f"
            },
            "marker": {
             "line": {
              "color": "#E5ECF6",
              "width": 0.5
             },
             "pattern": {
              "fillmode": "overlay",
              "size": 10,
              "solidity": 0.2
             }
            },
            "type": "bar"
           }
          ],
          "barpolar": [
           {
            "marker": {
             "line": {
              "color": "#E5ECF6",
              "width": 0.5
             },
             "pattern": {
              "fillmode": "overlay",
              "size": 10,
              "solidity": 0.2
             }
            },
            "type": "barpolar"
           }
          ],
          "carpet": [
           {
            "aaxis": {
             "endlinecolor": "#2a3f5f",
             "gridcolor": "white",
             "linecolor": "white",
             "minorgridcolor": "white",
             "startlinecolor": "#2a3f5f"
            },
            "baxis": {
             "endlinecolor": "#2a3f5f",
             "gridcolor": "white",
             "linecolor": "white",
             "minorgridcolor": "white",
             "startlinecolor": "#2a3f5f"
            },
            "type": "carpet"
           }
          ],
          "choropleth": [
           {
            "colorbar": {
             "outlinewidth": 0,
             "ticks": ""
            },
            "type": "choropleth"
           }
          ],
          "contour": [
           {
            "colorbar": {
             "outlinewidth": 0,
             "ticks": ""
            },
            "colorscale": [
             [
              0,
              "#0d0887"
             ],
             [
              0.1111111111111111,
              "#46039f"
             ],
             [
              0.2222222222222222,
              "#7201a8"
             ],
             [
              0.3333333333333333,
              "#9c179e"
             ],
             [
              0.4444444444444444,
              "#bd3786"
             ],
             [
              0.5555555555555556,
              "#d8576b"
             ],
             [
              0.6666666666666666,
              "#ed7953"
             ],
             [
              0.7777777777777778,
              "#fb9f3a"
             ],
             [
              0.8888888888888888,
              "#fdca26"
             ],
             [
              1,
              "#f0f921"
             ]
            ],
            "type": "contour"
           }
          ],
          "contourcarpet": [
           {
            "colorbar": {
             "outlinewidth": 0,
             "ticks": ""
            },
            "type": "contourcarpet"
           }
          ],
          "heatmap": [
           {
            "colorbar": {
             "outlinewidth": 0,
             "ticks": ""
            },
            "colorscale": [
             [
              0,
              "#0d0887"
             ],
             [
              0.1111111111111111,
              "#46039f"
             ],
             [
              0.2222222222222222,
              "#7201a8"
             ],
             [
              0.3333333333333333,
              "#9c179e"
             ],
             [
              0.4444444444444444,
              "#bd3786"
             ],
             [
              0.5555555555555556,
              "#d8576b"
             ],
             [
              0.6666666666666666,
              "#ed7953"
             ],
             [
              0.7777777777777778,
              "#fb9f3a"
             ],
             [
              0.8888888888888888,
              "#fdca26"
             ],
             [
              1,
              "#f0f921"
             ]
            ],
            "type": "heatmap"
           }
          ],
          "heatmapgl": [
           {
            "colorbar": {
             "outlinewidth": 0,
             "ticks": ""
            },
            "colorscale": [
             [
              0,
              "#0d0887"
             ],
             [
              0.1111111111111111,
              "#46039f"
             ],
             [
              0.2222222222222222,
              "#7201a8"
             ],
             [
              0.3333333333333333,
              "#9c179e"
             ],
             [
              0.4444444444444444,
              "#bd3786"
             ],
             [
              0.5555555555555556,
              "#d8576b"
             ],
             [
              0.6666666666666666,
              "#ed7953"
             ],
             [
              0.7777777777777778,
              "#fb9f3a"
             ],
             [
              0.8888888888888888,
              "#fdca26"
             ],
             [
              1,
              "#f0f921"
             ]
            ],
            "type": "heatmapgl"
           }
          ],
          "histogram": [
           {
            "marker": {
             "pattern": {
              "fillmode": "overlay",
              "size": 10,
              "solidity": 0.2
             }
            },
            "type": "histogram"
           }
          ],
          "histogram2d": [
           {
            "colorbar": {
             "outlinewidth": 0,
             "ticks": ""
            },
            "colorscale": [
             [
              0,
              "#0d0887"
             ],
             [
              0.1111111111111111,
              "#46039f"
             ],
             [
              0.2222222222222222,
              "#7201a8"
             ],
             [
              0.3333333333333333,
              "#9c179e"
             ],
             [
              0.4444444444444444,
              "#bd3786"
             ],
             [
              0.5555555555555556,
              "#d8576b"
             ],
             [
              0.6666666666666666,
              "#ed7953"
             ],
             [
              0.7777777777777778,
              "#fb9f3a"
             ],
             [
              0.8888888888888888,
              "#fdca26"
             ],
             [
              1,
              "#f0f921"
             ]
            ],
            "type": "histogram2d"
           }
          ],
          "histogram2dcontour": [
           {
            "colorbar": {
             "outlinewidth": 0,
             "ticks": ""
            },
            "colorscale": [
             [
              0,
              "#0d0887"
             ],
             [
              0.1111111111111111,
              "#46039f"
             ],
             [
              0.2222222222222222,
              "#7201a8"
             ],
             [
              0.3333333333333333,
              "#9c179e"
             ],
             [
              0.4444444444444444,
              "#bd3786"
             ],
             [
              0.5555555555555556,
              "#d8576b"
             ],
             [
              0.6666666666666666,
              "#ed7953"
             ],
             [
              0.7777777777777778,
              "#fb9f3a"
             ],
             [
              0.8888888888888888,
              "#fdca26"
             ],
             [
              1,
              "#f0f921"
             ]
            ],
            "type": "histogram2dcontour"
           }
          ],
          "mesh3d": [
           {
            "colorbar": {
             "outlinewidth": 0,
             "ticks": ""
            },
            "type": "mesh3d"
           }
          ],
          "parcoords": [
           {
            "line": {
             "colorbar": {
              "outlinewidth": 0,
              "ticks": ""
             }
            },
            "type": "parcoords"
           }
          ],
          "pie": [
           {
            "automargin": true,
            "type": "pie"
           }
          ],
          "scatter": [
           {
            "fillpattern": {
             "fillmode": "overlay",
             "size": 10,
             "solidity": 0.2
            },
            "type": "scatter"
           }
          ],
          "scatter3d": [
           {
            "line": {
             "colorbar": {
              "outlinewidth": 0,
              "ticks": ""
             }
            },
            "marker": {
             "colorbar": {
              "outlinewidth": 0,
              "ticks": ""
             }
            },
            "type": "scatter3d"
           }
          ],
          "scattercarpet": [
           {
            "marker": {
             "colorbar": {
              "outlinewidth": 0,
              "ticks": ""
             }
            },
            "type": "scattercarpet"
           }
          ],
          "scattergeo": [
           {
            "marker": {
             "colorbar": {
              "outlinewidth": 0,
              "ticks": ""
             }
            },
            "type": "scattergeo"
           }
          ],
          "scattergl": [
           {
            "marker": {
             "colorbar": {
              "outlinewidth": 0,
              "ticks": ""
             }
            },
            "type": "scattergl"
           }
          ],
          "scattermapbox": [
           {
            "marker": {
             "colorbar": {
              "outlinewidth": 0,
              "ticks": ""
             }
            },
            "type": "scattermapbox"
           }
          ],
          "scatterpolar": [
           {
            "marker": {
             "colorbar": {
              "outlinewidth": 0,
              "ticks": ""
             }
            },
            "type": "scatterpolar"
           }
          ],
          "scatterpolargl": [
           {
            "marker": {
             "colorbar": {
              "outlinewidth": 0,
              "ticks": ""
             }
            },
            "type": "scatterpolargl"
           }
          ],
          "scatterternary": [
           {
            "marker": {
             "colorbar": {
              "outlinewidth": 0,
              "ticks": ""
             }
            },
            "type": "scatterternary"
           }
          ],
          "surface": [
           {
            "colorbar": {
             "outlinewidth": 0,
             "ticks": ""
            },
            "colorscale": [
             [
              0,
              "#0d0887"
             ],
             [
              0.1111111111111111,
              "#46039f"
             ],
             [
              0.2222222222222222,
              "#7201a8"
             ],
             [
              0.3333333333333333,
              "#9c179e"
             ],
             [
              0.4444444444444444,
              "#bd3786"
             ],
             [
              0.5555555555555556,
              "#d8576b"
             ],
             [
              0.6666666666666666,
              "#ed7953"
             ],
             [
              0.7777777777777778,
              "#fb9f3a"
             ],
             [
              0.8888888888888888,
              "#fdca26"
             ],
             [
              1,
              "#f0f921"
             ]
            ],
            "type": "surface"
           }
          ],
          "table": [
           {
            "cells": {
             "fill": {
              "color": "#EBF0F8"
             },
             "line": {
              "color": "white"
             }
            },
            "header": {
             "fill": {
              "color": "#C8D4E3"
             },
             "line": {
              "color": "white"
             }
            },
            "type": "table"
           }
          ]
         },
         "layout": {
          "annotationdefaults": {
           "arrowcolor": "#2a3f5f",
           "arrowhead": 0,
           "arrowwidth": 1
          },
          "autotypenumbers": "strict",
          "coloraxis": {
           "colorbar": {
            "outlinewidth": 0,
            "ticks": ""
           }
          },
          "colorscale": {
           "diverging": [
            [
             0,
             "#8e0152"
            ],
            [
             0.1,
             "#c51b7d"
            ],
            [
             0.2,
             "#de77ae"
            ],
            [
             0.3,
             "#f1b6da"
            ],
            [
             0.4,
             "#fde0ef"
            ],
            [
             0.5,
             "#f7f7f7"
            ],
            [
             0.6,
             "#e6f5d0"
            ],
            [
             0.7,
             "#b8e186"
            ],
            [
             0.8,
             "#7fbc41"
            ],
            [
             0.9,
             "#4d9221"
            ],
            [
             1,
             "#276419"
            ]
           ],
           "sequential": [
            [
             0,
             "#0d0887"
            ],
            [
             0.1111111111111111,
             "#46039f"
            ],
            [
             0.2222222222222222,
             "#7201a8"
            ],
            [
             0.3333333333333333,
             "#9c179e"
            ],
            [
             0.4444444444444444,
             "#bd3786"
            ],
            [
             0.5555555555555556,
             "#d8576b"
            ],
            [
             0.6666666666666666,
             "#ed7953"
            ],
            [
             0.7777777777777778,
             "#fb9f3a"
            ],
            [
             0.8888888888888888,
             "#fdca26"
            ],
            [
             1,
             "#f0f921"
            ]
           ],
           "sequentialminus": [
            [
             0,
             "#0d0887"
            ],
            [
             0.1111111111111111,
             "#46039f"
            ],
            [
             0.2222222222222222,
             "#7201a8"
            ],
            [
             0.3333333333333333,
             "#9c179e"
            ],
            [
             0.4444444444444444,
             "#bd3786"
            ],
            [
             0.5555555555555556,
             "#d8576b"
            ],
            [
             0.6666666666666666,
             "#ed7953"
            ],
            [
             0.7777777777777778,
             "#fb9f3a"
            ],
            [
             0.8888888888888888,
             "#fdca26"
            ],
            [
             1,
             "#f0f921"
            ]
           ]
          },
          "colorway": [
           "#636efa",
           "#EF553B",
           "#00cc96",
           "#ab63fa",
           "#FFA15A",
           "#19d3f3",
           "#FF6692",
           "#B6E880",
           "#FF97FF",
           "#FECB52"
          ],
          "font": {
           "color": "#2a3f5f"
          },
          "geo": {
           "bgcolor": "white",
           "lakecolor": "white",
           "landcolor": "#E5ECF6",
           "showlakes": true,
           "showland": true,
           "subunitcolor": "white"
          },
          "hoverlabel": {
           "align": "left"
          },
          "hovermode": "closest",
          "mapbox": {
           "style": "light"
          },
          "paper_bgcolor": "white",
          "plot_bgcolor": "#E5ECF6",
          "polar": {
           "angularaxis": {
            "gridcolor": "white",
            "linecolor": "white",
            "ticks": ""
           },
           "bgcolor": "#E5ECF6",
           "radialaxis": {
            "gridcolor": "white",
            "linecolor": "white",
            "ticks": ""
           }
          },
          "scene": {
           "xaxis": {
            "backgroundcolor": "#E5ECF6",
            "gridcolor": "white",
            "gridwidth": 2,
            "linecolor": "white",
            "showbackground": true,
            "ticks": "",
            "zerolinecolor": "white"
           },
           "yaxis": {
            "backgroundcolor": "#E5ECF6",
            "gridcolor": "white",
            "gridwidth": 2,
            "linecolor": "white",
            "showbackground": true,
            "ticks": "",
            "zerolinecolor": "white"
           },
           "zaxis": {
            "backgroundcolor": "#E5ECF6",
            "gridcolor": "white",
            "gridwidth": 2,
            "linecolor": "white",
            "showbackground": true,
            "ticks": "",
            "zerolinecolor": "white"
           }
          },
          "shapedefaults": {
           "line": {
            "color": "#2a3f5f"
           }
          },
          "ternary": {
           "aaxis": {
            "gridcolor": "white",
            "linecolor": "white",
            "ticks": ""
           },
           "baxis": {
            "gridcolor": "white",
            "linecolor": "white",
            "ticks": ""
           },
           "bgcolor": "#E5ECF6",
           "caxis": {
            "gridcolor": "white",
            "linecolor": "white",
            "ticks": ""
           }
          },
          "title": {
           "x": 0.05
          },
          "xaxis": {
           "automargin": true,
           "gridcolor": "white",
           "linecolor": "white",
           "ticks": "",
           "title": {
            "standoff": 15
           },
           "zerolinecolor": "white",
           "zerolinewidth": 2
          },
          "yaxis": {
           "automargin": true,
           "gridcolor": "white",
           "linecolor": "white",
           "ticks": "",
           "title": {
            "standoff": 15
           },
           "zerolinecolor": "white",
           "zerolinewidth": 2
          }
         }
        },
        "title": {
         "text": "HEXACO Trait Distribution (200 Participants)"
        },
        "width": 800,
        "xaxis": {
         "anchor": "y",
         "domain": [
          0,
          0.49
         ],
         "dtick": 0.5,
         "range": [
          0,
          5
         ],
         "tick0": 0,
         "tickmode": "linear",
         "title": {
          "text": "value"
         }
        },
        "xaxis2": {
         "anchor": "y2",
         "domain": [
          0.51,
          1
         ],
         "dtick": 0.5,
         "matches": "x",
         "range": [
          0,
          5
         ],
         "tick0": 0,
         "tickmode": "linear",
         "title": {
          "text": "value"
         }
        },
        "xaxis3": {
         "anchor": "y3",
         "domain": [
          0,
          0.49
         ],
         "dtick": 0.5,
         "matches": "x",
         "range": [
          0,
          5
         ],
         "showticklabels": false,
         "tick0": 0,
         "tickmode": "linear"
        },
        "xaxis4": {
         "anchor": "y4",
         "domain": [
          0.51,
          1
         ],
         "dtick": 0.5,
         "matches": "x",
         "range": [
          0,
          5
         ],
         "showticklabels": false,
         "tick0": 0,
         "tickmode": "linear"
        },
        "xaxis5": {
         "anchor": "y5",
         "domain": [
          0,
          0.49
         ],
         "dtick": 0.5,
         "matches": "x",
         "range": [
          0,
          5
         ],
         "showticklabels": false,
         "tick0": 0,
         "tickmode": "linear"
        },
        "xaxis6": {
         "anchor": "y6",
         "domain": [
          0.51,
          1
         ],
         "dtick": 0.5,
         "matches": "x",
         "range": [
          0,
          5
         ],
         "showticklabels": false,
         "tick0": 0,
         "tickmode": "linear"
        },
        "yaxis": {
         "anchor": "x",
         "domain": [
          0,
          0.2866666666666666
         ],
         "range": [
          0,
          28
         ],
         "title": {
          "text": "Count"
         }
        },
        "yaxis2": {
         "anchor": "x2",
         "domain": [
          0,
          0.2866666666666666
         ],
         "matches": "y",
         "range": [
          0,
          28
         ],
         "showticklabels": false
        },
        "yaxis3": {
         "anchor": "x3",
         "domain": [
          0.35666666666666663,
          0.6433333333333333
         ],
         "matches": "y",
         "range": [
          0,
          28
         ],
         "title": {
          "text": "count"
         }
        },
        "yaxis4": {
         "anchor": "x4",
         "domain": [
          0.35666666666666663,
          0.6433333333333333
         ],
         "matches": "y",
         "range": [
          0,
          28
         ],
         "showticklabels": false
        },
        "yaxis5": {
         "anchor": "x5",
         "domain": [
          0.7133333333333333,
          0.9999999999999999
         ],
         "matches": "y",
         "range": [
          0,
          28
         ],
         "title": {
          "text": "count"
         }
        },
        "yaxis6": {
         "anchor": "x6",
         "domain": [
          0.7133333333333333,
          0.9999999999999999
         ],
         "matches": "y",
         "range": [
          0,
          28
         ],
         "showticklabels": false
        }
       }
      }
     },
     "metadata": {},
     "output_type": "display_data"
    }
   ],
   "source": [
    "# using df create a histogram for each HEXACO trait and put them as facets\n",
    "fig = px.histogram(df, x=['h', 'e', 'x', 'a', 'c', 'o'], \n",
    "        facet_col='variable', facet_col_wrap=2, nbins=30)\n",
    "fig.update_layout(\n",
    "    #xaxis_title='Trait value',\n",
    "    yaxis_title='Count',\n",
    "    title=f'HEXACO Trait Distribution ({len(df)} Participants)',\n",
    ")\n",
    "# Set x-axis range and tick marks\n",
    "fig.update_xaxes(range=[0, 5], tickmode='linear', tick0=0, dtick=0.5)\n",
    "\n",
    "max_count = max([max(np.histogram(df[trait ], bins=25)[0]) for trait in ['h', 'e', 'x', 'a', 'c', 'o']])   \n",
    "\n",
    "# set y axis to start at 0 and end at the highest count\n",
    "fig.update_yaxes(range=[0, max_count])\n",
    "\n",
    "# Add dots at each trait using prt_values\n",
    "prt_values = [\n",
    "    [ 3.1, 2.9, 2.5, 3.6, 3.1, 2.5], # participant 1\n",
    "    [ 3.6, 2.7, 3.1, 2.6, 3.2, 3.1], # participant 2\n",
    "]\n",
    "\n",
    "# set figure height and width\n",
    "fig.update_layout(height=800, width=800)\n",
    "\n",
    "fig.show()\n"
   ]
  }
 ],
 "metadata": {
  "kernelspec": {
   "display_name": "Python 3",
   "language": "python",
   "name": "python3"
  },
  "language_info": {
   "codemirror_mode": {
    "name": "ipython",
    "version": 3
   },
   "file_extension": ".py",
   "mimetype": "text/x-python",
   "name": "python",
   "nbconvert_exporter": "python",
   "pygments_lexer": "ipython3",
   "version": "3.12.4"
  }
 },
 "nbformat": 4,
 "nbformat_minor": 2
}
